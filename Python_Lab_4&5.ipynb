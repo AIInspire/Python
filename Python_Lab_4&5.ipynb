{
  "nbformat": 4,
  "nbformat_minor": 0,
  "metadata": {
    "colab": {
      "provenance": [],
      "authorship_tag": "ABX9TyO4a0sT/I05ZOaKKLb7MoiW",
      "include_colab_link": true
    },
    "kernelspec": {
      "name": "python3",
      "display_name": "Python 3"
    },
    "language_info": {
      "name": "python"
    }
  },
  "cells": [
    {
      "cell_type": "markdown",
      "metadata": {
        "id": "view-in-github",
        "colab_type": "text"
      },
      "source": [
        "<a href=\"https://colab.research.google.com/github/AIInspire/Python/blob/main/Python_Lab_4%265.ipynb\" target=\"_parent\"><img src=\"https://colab.research.google.com/assets/colab-badge.svg\" alt=\"Open In Colab\"/></a>"
      ]
    },
    {
      "cell_type": "markdown",
      "source": [
        "# Python Fundamentals Lab: Data Structures (Lists & Dictionaries)"
      ],
      "metadata": {
        "id": "a3wdFzS0nVCe"
      }
    },
    {
      "cell_type": "markdown",
      "source": [
        "**Warm-Up: Basic Operations**\n",
        "1. **Lists:**\n",
        " - Create a list of integers from 1 to 10. Write a script to:\n",
        " - Print the first and last elements.\n",
        " - Reverse the list.\n",
        " - Find the sum of all elements."
      ],
      "metadata": {
        "id": "MuSinc5PLF-w"
      }
    },
    {
      "cell_type": "code",
      "execution_count": null,
      "metadata": {
        "colab": {
          "base_uri": "https://localhost:8080/"
        },
        "id": "V680rvcSnIft",
        "outputId": "1cb8fee0-96a3-422a-cf89-922cda33cdf2"
      },
      "outputs": [
        {
          "output_type": "stream",
          "name": "stdout",
          "text": [
            "First Element:  1\n",
            "Last Element:  10\n",
            "Reversed List:  [10, 9, 8, 7, 6, 5, 4, 3, 2, 1]\n",
            "Sum of Elements:  55\n"
          ]
        }
      ],
      "source": [
        "ints = list(range(1, 11))\n",
        "\n",
        "print(\"First Element: \", ints[0])\n",
        "print(\"Last Element: \", ints[-1])\n",
        "\n",
        "ints.reverse()\n",
        "print(\"Reversed List: \", ints)\n",
        "\n",
        "print(\"Sum of Elements: \", sum(ints))"
      ]
    },
    {
      "cell_type": "code",
      "source": [
        "ints = list(range(1, 11))\n",
        "\n",
        "print(\"First Element: \", ints[0])\n",
        "print(\"Last Element: \", ints[-1])\n",
        "\n",
        "reversed_list = ints[::-1]\n",
        "print(\"Reversed List: \", reversed_list)\n",
        "\n",
        "total = 0\n",
        "for num in ints:\n",
        "  total += num\n",
        "\n",
        "print(\"Sum of Elements: \", total)"
      ],
      "metadata": {
        "colab": {
          "base_uri": "https://localhost:8080/"
        },
        "id": "p6sRD2m8o_Q0",
        "outputId": "91b92d63-9fdf-4ac3-daca-1f7cc804b7df"
      },
      "execution_count": null,
      "outputs": [
        {
          "output_type": "stream",
          "name": "stdout",
          "text": [
            "First Element:  1\n",
            "Last Element:  10\n",
            "Reversed List:  [10, 9, 8, 7, 6, 5, 4, 3, 2, 1]\n",
            "Sum of Elements:  55\n"
          ]
        }
      ]
    },
    {
      "cell_type": "markdown",
      "source": [
        "2. **Dictionaries:**\n",
        " - Create a dictionary where keys are the first 5 natural numbers and values are their squares.\n",
        "Write a script to:\n",
        " - Print all keys and their respective values.\n",
        " - Add a new key-value pair: `6: 36`.\n",
        " - Check if a specific key (e.g., 4) exists in the dictionary."
      ],
      "metadata": {
        "id": "2kkzEqqpnnRc"
      }
    },
    {
      "cell_type": "code",
      "source": [
        "dic = {}\n",
        "\n",
        "for i in (range(1, 6)):\n",
        "  dic[i] = i**2\n",
        "  print(f\"The Key: {i}, The value {dic[i]}\")\n",
        "\n",
        "print(\"\\nThe dictinary: \",dic, \"\\n\")\n",
        "\n",
        "\n",
        "dic[6] = 36\n",
        "print(\"The new dictinary: \",dic, \"\\n\")\n",
        "\n",
        "if (4 in dic):\n",
        "  print(\"The key 4 exists\")\n",
        "else:\n",
        "  print(\"The key 4 does not exist\")"
      ],
      "metadata": {
        "colab": {
          "base_uri": "https://localhost:8080/"
        },
        "id": "3Jj7F1N-snJV",
        "outputId": "99dba6dd-d757-4f38-db8e-144ca7493b40"
      },
      "execution_count": null,
      "outputs": [
        {
          "output_type": "stream",
          "name": "stdout",
          "text": [
            "The Key: 1, The value 1\n",
            "The Key: 2, The value 4\n",
            "The Key: 3, The value 9\n",
            "The Key: 4, The value 16\n",
            "The Key: 5, The value 25\n",
            "\n",
            "The dictinary:  {1: 1, 2: 4, 3: 9, 4: 16, 5: 25} \n",
            "\n",
            "The new dictinary:  {1: 1, 2: 4, 3: 9, 4: 16, 5: 25, 6: 36} \n",
            "\n",
            "The key 4 exists\n"
          ]
        }
      ]
    },
    {
      "cell_type": "markdown",
      "source": [
        "# **Problem-Solving: Real-World Scenarios**"
      ],
      "metadata": {
        "id": "4lRWmB7Os3UA"
      }
    },
    {
      "cell_type": "markdown",
      "source": [
        "1. **Student Grades:**\n",
        " - Create a dictionary to store student names as keys and a list of their grades as values. Write a\n",
        "script to:\n",
        " - Calculate the average grade for each student.\n",
        " - Find the student with the highest average.\n"
      ],
      "metadata": {
        "id": "9bfgrUnzs5Yt"
      }
    },
    {
      "cell_type": "code",
      "source": [
        "grads_dic = {\n",
        "    \"Omnia\" : [100, 95, 91],\n",
        "    \"Salma\" : [90, 100, 97],\n",
        "    \"Hend\" : [90, 93, 100],\n",
        "    \"Habiba\" : [95, 98, 100]\n",
        "    }\n",
        "\n",
        "avg_dic = {}\n",
        "\n",
        "for k,v in grads_dic.items():\n",
        "  total = 0\n",
        "  for i in v:\n",
        "    total += i\n",
        "  avg_dic[k] = total/len(v)\n",
        "\n",
        "print(\"Average scores per each student:\\n\", avg_dic)\n",
        "\n",
        "highest_avg = 0\n",
        "highest_name = \"\"\n",
        "\n",
        "for k,v in avg_dic.items():\n",
        "  if v > highest_avg:\n",
        "    highest_avg = v\n",
        "    highest_name = k\n",
        "\n",
        "print(\"\\nThe student with the highest average is: \", highest_name)"
      ],
      "metadata": {
        "colab": {
          "base_uri": "https://localhost:8080/"
        },
        "id": "yNBNWxgjs29k",
        "outputId": "6ed088fa-2a2c-4889-c9df-9e7a94a6fa46"
      },
      "execution_count": null,
      "outputs": [
        {
          "output_type": "stream",
          "name": "stdout",
          "text": [
            "Average scores per each student:\n",
            " {'Omnia': 95.33333333333333, 'Salma': 95.66666666666667, 'Hend': 94.33333333333333, 'Habiba': 97.66666666666667}\n",
            "\n",
            "The student with the highest average is:  Habiba\n"
          ]
        }
      ]
    },
    {
      "cell_type": "markdown",
      "source": [
        "2. **Shopping Cart:**\n",
        " - Implement a shopping cart using a dictionary where keys are product names and values are their\n",
        "prices. Write a script to:\n",
        " - Add items to the cart.\n",
        " - Calculate the total price of items in the cart."
      ],
      "metadata": {
        "id": "KBUhvjxSzQPJ"
      }
    },
    {
      "cell_type": "code",
      "source": [
        "shoping_card = {\n",
        "    \"item1\": 10,\n",
        "    \"item2\": 10,\n",
        "    \"item3\": 10,\n",
        "    \"item4\": 10\n",
        "    }\n",
        "\n",
        "total = 0\n",
        "for v in shoping_card.values():\n",
        "  total += v\n",
        "\n",
        "print(\"The total price of items in the cart: \", total)\n"
      ],
      "metadata": {
        "colab": {
          "base_uri": "https://localhost:8080/"
        },
        "id": "4nKvStees1YF",
        "outputId": "d87fc8b4-83a6-4546-9316-99aacac3e5a1"
      },
      "execution_count": null,
      "outputs": [
        {
          "output_type": "stream",
          "name": "stdout",
          "text": [
            "The total price of items in the cart:  40\n"
          ]
        }
      ]
    },
    {
      "cell_type": "markdown",
      "source": [
        "3. **Employee Database:**\n",
        " - Create a list of dictionaries where each dictionary represents an employee with attributes:\n",
        "`name`, `age`, and `department`. Write a script to:\n",
        " - Filter employees by a specific department.\n",
        " - Find the average age of employees."
      ],
      "metadata": {
        "id": "7yIFGn1k0RUT"
      }
    },
    {
      "cell_type": "code",
      "source": [
        "employees = [\n",
        "    {\"name\": \"Omnia\", \"age\": 20, \"department\": \"IT\"},\n",
        "    {\"name\": \"Salma\", \"age\": 20, \"department\": \"HR\"},\n",
        "    {\"name\": \"Hend\", \"age\": 20, \"department\": \"IT\"},\n",
        "    {\"name\": \"Habiba\", \"age\": 20, \"department\": \"HR\"}\n",
        "]\n",
        "\n",
        "filtered_employees = []\n",
        "for i in employees:\n",
        "  if i[\"department\"] == \"IT\":\n",
        "    filtered_employees.append(i)\n",
        "\n",
        "print(\"Filtered employees:\\n\", filtered_employees)\n",
        "\n",
        "total = 0\n",
        "for i in employees:\n",
        "  total += i[\"age\"]\n",
        "\n",
        "print(\"The average age of employees: \", total/len(employees))"
      ],
      "metadata": {
        "colab": {
          "base_uri": "https://localhost:8080/"
        },
        "id": "0LgiY1-m0SkQ",
        "outputId": "f12121b0-58ce-4db3-93ba-eae5af9cfeb1"
      },
      "execution_count": null,
      "outputs": [
        {
          "output_type": "stream",
          "name": "stdout",
          "text": [
            "Filtered employees:\n",
            " [{'name': 'Omnia', 'age': 20, 'department': 'IT'}, {'name': 'Hend', 'age': 20, 'department': 'IT'}]\n",
            "The average age of employees:  20.0\n"
          ]
        }
      ]
    },
    {
      "cell_type": "markdown",
      "source": [
        "#  **Challenge Section**"
      ],
      "metadata": {
        "id": "wNJ3tAve1qSk"
      }
    },
    {
      "cell_type": "markdown",
      "source": [
        "1. **Word Frequency Counter:**\n",
        " - Given a string, count the frequency of each word using a dictionary."
      ],
      "metadata": {
        "id": "L3c0KjhA1vFy"
      }
    },
    {
      "cell_type": "code",
      "source": [
        "string = \"This is a string. This is a Test. this is a test.\"\n",
        "\n",
        "words_dic = {}\n",
        "\n",
        "words = string.lower().split()\n",
        "\n",
        "for word in words:\n",
        "  if word in words_dic:\n",
        "    words_dic[word] += 1\n",
        "  else:\n",
        "    words_dic[word] = 1\n",
        "\n",
        "for k,v in words_dic.items():\n",
        "  print(f\"The word '{k}' is repeated {v} times\")"
      ],
      "metadata": {
        "colab": {
          "base_uri": "https://localhost:8080/"
        },
        "id": "VgDmcroV0f05",
        "outputId": "0854f339-c3b8-406b-9c95-73a679e51134"
      },
      "execution_count": null,
      "outputs": [
        {
          "output_type": "stream",
          "name": "stdout",
          "text": [
            "The word 'this' is repeated 3 times\n",
            "The word 'is' is repeated 3 times\n",
            "The word 'a' is repeated 3 times\n",
            "The word 'string.' is repeated 1 times\n",
            "The word 'test.' is repeated 2 times\n"
          ]
        }
      ]
    },
    {
      "cell_type": "markdown",
      "source": [
        "2. **Inventory Management:**\n",
        " - Create an inventory system for a store using a dictionary where keys are item names and values\n",
        "are dictionaries containing `price` and `quantity`. Write a script to:\n",
        " - Update stock after a sale.\n",
        " - Restock items."
      ],
      "metadata": {
        "id": "HjVsdMqL3O1e"
      }
    },
    {
      "cell_type": "code",
      "source": [
        "inventory_system_dic = {\n",
        "     \"item_1\" : {\"price\": 100, \"quantity\": 4},\n",
        "     \"item_2\" : {\"price\": 200, \"quantity\": 5},\n",
        "     \"item_3\" : {\"price\": 300, \"quantity\": 6},\n",
        "     \"item_4\" : {\"price\": 400, \"quantity\": 7}\n",
        "}\n",
        "\n",
        "print(\"The system before the update: \\n\")\n",
        "for k, v in inventory_system_dic.items():\n",
        "  print(k, \":\", v)\n",
        "\n",
        "print(\"\\n\")\n",
        "sale = 0.2\n",
        "\n",
        "#Update stock after a sale.\n",
        "print(\"The system after the sale: \\n\")\n",
        "for k, v in inventory_system_dic.items():\n",
        "  v['sale_price'] = v['price'] * (1-sale)\n",
        "  print(k, \":\", v)\n",
        "\n",
        "#  Restock items.\n",
        "restock = 4\n",
        "\n",
        "print(\"\\nThe system after the restock: \\n\")\n",
        "for k, v in inventory_system_dic.items():\n",
        "  v['quantity']+= restock\n",
        "  print(k, \":\", v)"
      ],
      "metadata": {
        "colab": {
          "base_uri": "https://localhost:8080/"
        },
        "id": "15FVFud23MZz",
        "outputId": "4fb18246-9f34-44d2-9fb8-8a4fdc159d05"
      },
      "execution_count": null,
      "outputs": [
        {
          "output_type": "stream",
          "name": "stdout",
          "text": [
            "The system before the update: \n",
            "\n",
            "item_1 : {'price': 100, 'quantity': 4}\n",
            "item_2 : {'price': 200, 'quantity': 5}\n",
            "item_3 : {'price': 300, 'quantity': 6}\n",
            "item_4 : {'price': 400, 'quantity': 7}\n",
            "\n",
            "\n",
            "The system after the sale: \n",
            "\n",
            "item_1 : {'price': 100, 'quantity': 4, 'sale_price': 80.0}\n",
            "item_2 : {'price': 200, 'quantity': 5, 'sale_price': 160.0}\n",
            "item_3 : {'price': 300, 'quantity': 6, 'sale_price': 240.0}\n",
            "item_4 : {'price': 400, 'quantity': 7, 'sale_price': 320.0}\n",
            "\n",
            "The system after the restock: \n",
            "\n",
            "item_1 : {'price': 100, 'quantity': 8, 'sale_price': 80.0}\n",
            "item_2 : {'price': 200, 'quantity': 9, 'sale_price': 160.0}\n",
            "item_3 : {'price': 300, 'quantity': 10, 'sale_price': 240.0}\n",
            "item_4 : {'price': 400, 'quantity': 11, 'sale_price': 320.0}\n"
          ]
        }
      ]
    },
    {
      "cell_type": "markdown",
      "source": [
        "3. **Nested Data Manipulation:**\n",
        " - Create a nested dictionary to represent a library where keys are genres and values are lists of\n",
        "books. Write a script to:\n",
        " - Add a new book to a genre.\n",
        " - List all books of a specific genre.\n"
      ],
      "metadata": {
        "id": "hoXYLxBN8OYR"
      }
    },
    {
      "cell_type": "code",
      "source": [
        "library_dic = {\n",
        "    \"genre_1\": [\"book_1\", \"book_2\", \"book_3\"],\n",
        "    \"genre_2\": [\"book_4\", \"book_2\", \"book_3\"],\n",
        "    \"genre_3\": [\"book_1\", \"book_2\", \"book_3\"]\n",
        "}\n",
        "\n",
        "print(\"The library before the update: \\n\")\n",
        "for k, v in library_dic.items():\n",
        "  print(k, \":\", v)\n",
        "\n",
        "print(\"\\n\")\n",
        "\n",
        "library_dic['genre_1'].append(\"book_4\")\n",
        "print(\"The library before the after: \\n\")\n",
        "for k, v in library_dic.items():\n",
        "  print(k, \":\", v)\n",
        "\n",
        "print(\"\\n\")\n",
        "\n",
        "print(\"All book of genre_1: \\n\")\n",
        "for k, v in library_dic.items():\n",
        "  if k == \"genre_1\":\n",
        "    print(k, \":\", v)"
      ],
      "metadata": {
        "colab": {
          "base_uri": "https://localhost:8080/"
        },
        "id": "7k-4UYdj39_o",
        "outputId": "2039926f-1b10-4c06-8953-56cbfa7725d2"
      },
      "execution_count": null,
      "outputs": [
        {
          "output_type": "stream",
          "name": "stdout",
          "text": [
            "The library before the update: \n",
            "\n",
            "genre_1 : ['book_1', 'book_2', 'book_3']\n",
            "genre_2 : ['book_4', 'book_2', 'book_3']\n",
            "genre_3 : ['book_1', 'book_2', 'book_3']\n",
            "\n",
            "\n",
            "The library before the after: \n",
            "\n",
            "genre_1 : ['book_1', 'book_2', 'book_3', 'book_4']\n",
            "genre_2 : ['book_4', 'book_2', 'book_3']\n",
            "genre_3 : ['book_1', 'book_2', 'book_3']\n",
            "\n",
            "\n",
            "All book of genre_1: \n",
            "\n",
            "genre_1 : ['book_1', 'book_2', 'book_3', 'book_4']\n"
          ]
        }
      ]
    },
    {
      "cell_type": "markdown",
      "source": [
        "4. **Anagram Checker:**\n",
        " - Write a function to check if two given strings are anagrams of each other. Two strings are\n",
        "anagrams if they use the same characters in the same frequency, regardless of order.\n",
        " - Example:\n",
        " ```python\n",
        " Input: \"listen\", \"silent\"\n",
        " Output: True\n",
        " ```"
      ],
      "metadata": {
        "id": "iPDWmxac8QUy"
      }
    },
    {
      "cell_type": "code",
      "source": [
        "string1 = input(\"Enter the first string: \").strip()\n",
        "string2 = input(\"Enter the second string: \").strip()\n",
        "\n",
        "string1 = [s.lower() for s in string1]\n",
        "string1.sort()\n",
        "\n",
        "string2 = [s.lower() for s in string2]\n",
        "string2.sort()\n",
        "\n",
        "if string1 == string2:\n",
        "  print(\"The strings are anagrams\")\n",
        "else:\n",
        "  print(\"The strings are not anagrams\")"
      ],
      "metadata": {
        "colab": {
          "base_uri": "https://localhost:8080/"
        },
        "id": "eJ4Avoy238dX",
        "outputId": "6e89334c-0103-466f-d9ce-acbffbbd634b"
      },
      "execution_count": null,
      "outputs": [
        {
          "output_type": "stream",
          "name": "stdout",
          "text": [
            "Enter the first string: ewq\n",
            "Enter the second string: qwe\n",
            "None\n",
            "The strings are not anagrams\n"
          ]
        }
      ]
    },
    {
      "cell_type": "markdown",
      "source": [
        "5. **Two-Sum Problem:**\n",
        " - Write a function that takes a list of integers and a target number and returns the indices of two\n",
        "numbers in the list that add up to the target.\n",
        " - Example:\n",
        " ```python\n",
        " Input: nums = [2, 7, 11, 15], target = 9\n",
        " Output: [0, 1]\n",
        " ```"
      ],
      "metadata": {
        "id": "UMRpW3Gn8V4w"
      }
    },
    {
      "cell_type": "code",
      "source": [
        "nums =  [2, 7, 11, 15]\n",
        "target = 18\n",
        "\n",
        "indices = []\n",
        "\n",
        "for i in range(len(nums)):\n",
        "  for j in range(i+1, len(nums)):\n",
        "    if nums[i] + nums[j] == target:\n",
        "      indices.append([i,j])\n",
        "      #indices.append(j)\n",
        "\n",
        "print(indices)"
      ],
      "metadata": {
        "colab": {
          "base_uri": "https://localhost:8080/"
        },
        "id": "6cGE9mkSAFtY",
        "outputId": "4c0294eb-57b8-4bfa-e6c3-2ee0530f46e4"
      },
      "execution_count": null,
      "outputs": [
        {
          "output_type": "stream",
          "name": "stdout",
          "text": [
            "[[1, 2]]\n"
          ]
        }
      ]
    },
    {
      "cell_type": "markdown",
      "source": [
        "# Python Exceptions and File Handling Lab"
      ],
      "metadata": {
        "id": "Qtd25yHzIh-0"
      }
    },
    {
      "cell_type": "code",
      "source": [
        "from pathlib import Path"
      ],
      "metadata": {
        "id": "z9TmGNG7PCtf"
      },
      "execution_count": null,
      "outputs": []
    },
    {
      "cell_type": "code",
      "source": [
        "!touch files.py"
      ],
      "metadata": {
        "id": "XaOGlwYy7W_A"
      },
      "execution_count": null,
      "outputs": []
    },
    {
      "cell_type": "code",
      "source": [
        "def open_file(file_name):\n",
        "  file_path = f\"/content/{file_name.strip()}.txt\"\n",
        "\n",
        "  return Path(file_path)"
      ],
      "metadata": {
        "id": "f1M0VAjYbYyw"
      },
      "execution_count": null,
      "outputs": []
    },
    {
      "cell_type": "markdown",
      "source": [
        "**Problem 1: File Reader with Exception Handling**\n",
        "\n",
        "Write a Python program that:\n",
        "1. Asks the user for a file name.\n",
        "2. Reads the contents of the file.\n",
        "3. Handles the following exception:\n",
        "o FileNotFoundError if the file does not exist.\n",
        "4. If the file is read successfully, print its contents.\n",
        "5. Include an option for the user to try again if an error occurs.\n",
        "Example Input:\n",
        "Enter file name: example.txt\n",
        "Example Output:\n",
        "Contents of example.txt:\n",
        "Hello, this is a sample file.\n",
        "Error Example:\n",
        "Enter file name: missing.txt\n",
        "Error: File 'missing.txt' not found.\n",
        "Would you like to try again? (yes/no): yes"
      ],
      "metadata": {
        "id": "HK6CE6TzJp0N"
      }
    },
    {
      "cell_type": "code",
      "source": [
        "!touch task1_file.txt"
      ],
      "metadata": {
        "id": "8mrYBcslbf9c"
      },
      "execution_count": null,
      "outputs": []
    },
    {
      "cell_type": "code",
      "source": [
        "while True:\n",
        "  file_name = input(\"Enter file name: \")\n",
        "  path = open_file(file_name)\n",
        "\n",
        "  try:\n",
        "    contents = path.read_text()\n",
        "    print(\"Contents of example.txt:\\n\", contents)\n",
        "    break\n",
        "\n",
        "  except FileNotFoundError:\n",
        "    print(\"\\nError: File not found.\")\n",
        "\n",
        "    try_again = input(\"\\nTry again? (yes/no): \").strip()\n",
        "    if try_again.lower() == \"yes\":\n",
        "      continue\n",
        "    else:\n",
        "      break"
      ],
      "metadata": {
        "colab": {
          "base_uri": "https://localhost:8080/"
        },
        "id": "KKW5OgLNIhTV",
        "outputId": "fd990764-87a0-4b3d-82c8-1faf13f4d3f0"
      },
      "execution_count": null,
      "outputs": [
        {
          "output_type": "stream",
          "name": "stdout",
          "text": [
            "Enter file name: try\n",
            "\n",
            "Error: File not found.\n",
            "\n",
            "Try again? (yes/no): yes\n",
            "Enter file name: task1_file\n",
            "Contents of example.txt:\n",
            " file 1 content ......\n"
          ]
        }
      ]
    },
    {
      "cell_type": "markdown",
      "source": [
        "**Problem 2: Write Data to a File**\n",
        "\n",
        "Write a Python program that:\n",
        "1. Asks the user for a file name.\n",
        "2. Prompts the user to enter some text.\n",
        "3. Writes the entered text to the specified file.\n",
        "4. Handles the following exceptions:\n",
        "o PermissionError if the file cannot be written to.\n",
        "5. Confirm successful write by reopening the file and displaying its contents.\n",
        "Example Input:\n",
        "Enter file name: notes.txt\n",
        "Enter text to save: This is a note.\n",
        "Example Output:\n",
        "Data saved successfully to notes.txt.\n",
        "Contents of notes.txt:\n",
        "This is a note.\n",
        "Error Example:\n",
        "Enter file name: /restricted/notes.txt\n",
        "Error: Permission denied to write to '/restricted/notes.txt'."
      ],
      "metadata": {
        "id": "qwfxdPF5J4P0"
      }
    },
    {
      "cell_type": "code",
      "source": [
        "file_name = input(\"Enter file name: \")  #task2_file\n",
        "text = input(\"Enter text to save: \")    #File 2 content ..........\n",
        "\n",
        "path = open_file(file_name)\n",
        "\n",
        "try:\n",
        "  path.write_text(text)\n",
        "  print(f\"\\nData saved successfully to  {file_name}.txt.\")\n",
        "\n",
        "except PermissionError:\n",
        "  print(f\"\\nError: Permission denied to write to '{file_name}.text'\")\n",
        "\n",
        "try:\n",
        "  path = open_file(file_name)\n",
        "  print(f\"\\nContent of file {file_name}.txt \\n\", path.read_text())\n",
        "\n",
        "except PermissionError:\n",
        "  print(f\"\\nError: Permission denied to write to '{file_name}.text'\")"
      ],
      "metadata": {
        "id": "bRkGgBRfKDNz",
        "colab": {
          "base_uri": "https://localhost:8080/"
        },
        "outputId": "46e175b0-163d-4df1-e08f-e13e40aea7a0"
      },
      "execution_count": null,
      "outputs": [
        {
          "output_type": "stream",
          "name": "stdout",
          "text": [
            "Enter file name: task2_file\n",
            "Enter text to save: File 2 content ..........\n",
            "\n",
            "Data saved successfully to  task2_file.txt.\n",
            "\n",
            "Content of file task2_file.txt \n",
            " File 2 content ..........\n"
          ]
        }
      ]
    },
    {
      "cell_type": "code",
      "source": [
        "import os\n",
        "\n",
        "def create_read_only_file():\n",
        "    try:\n",
        "        file_name = input(\"Enter file name: \").strip()\n",
        "        text_to_save = input(\"Enter text to save: \").strip()\n",
        "\n",
        "        with open(file_name, 'w') as file:\n",
        "            file.write(text_to_save)\n",
        "\n",
        "        print(f\"\\nData saved successfully to {file_name}.\")\n",
        "\n",
        "        os.chmod(file_name, 0o444)\n",
        "        print(f\"The file '{file_name}' is now read-only.\")\n",
        "\n",
        "    except PermissionError:\n",
        "        print(f\"Error: Permission denied to modify permissions for '{file_name}'.\")\n",
        "\n",
        "create_read_only_file()"
      ],
      "metadata": {
        "colab": {
          "base_uri": "https://localhost:8080/"
        },
        "id": "LklGEM6FAU84",
        "outputId": "40cbf9c6-bfa3-41a0-93fc-fadb9625ff91"
      },
      "execution_count": null,
      "outputs": [
        {
          "output_type": "stream",
          "name": "stdout",
          "text": [
            "Enter file name: new_file\n",
            "Enter text to save: yyyy\n",
            "\n",
            "Data saved successfully to new_file.\n",
            "The file 'new_file' is now read-only.\n"
          ]
        }
      ]
    },
    {
      "cell_type": "code",
      "source": [
        "file_name = input(\"Enter file name: \")  #task2_file\n",
        "text = input(\"Enter text to save: \")    #File 2 content ..........\n",
        "\n",
        "try:\n",
        "  with open(file_name, 'w') as file:\n",
        "    file.write(text)\n",
        "\n",
        "    print(f\"\\nData saved successfully to {file_name}.\")\n",
        "\n",
        "except PermissionError:\n",
        "  print(f\"Error: Permission denied to modify permissions for '{file_name}'.\")\n"
      ],
      "metadata": {
        "colab": {
          "base_uri": "https://localhost:8080/"
        },
        "id": "rPrFIn2RA6ZT",
        "outputId": "69630b4b-bb4b-44e3-96f3-84722d220214"
      },
      "execution_count": null,
      "outputs": [
        {
          "output_type": "stream",
          "name": "stdout",
          "text": [
            "Enter file name: new_file\n",
            "Enter text to save: hhhh\n",
            "\n",
            "Data saved successfully to new_file.\n"
          ]
        }
      ]
    },
    {
      "cell_type": "markdown",
      "source": [
        "**Problem 3: Store Data in JSON Format**\n",
        "\n",
        "Write a Python program that:\n",
        "1. Creates a dictionary with the following structure:\n",
        "2. data = {\n",
        "3. \"name\": \"Alice\",\n",
        "4. \"age\": 25,\n",
        "5. \"city\": \"New York\"\n",
        "6. }\n",
        "7. Saves this dictionary into a file named data.json in JSON format.\n",
        "8. Handles the following exceptions:\n",
        "o IOError if there is an error writing to the file.\n",
        "9. Reloads the JSON file and displays its contents to confirm successful saving.\n",
        "Example Output:\n",
        "Data saved successfully to data.json.\n",
        "Contents of data.json:\n",
        "{\"name\": \"Alice\", \"age\": 25, \"city\": \"New York\"}"
      ],
      "metadata": {
        "id": "0eZB4znuKDfJ"
      }
    },
    {
      "cell_type": "code",
      "source": [
        "data = {\n",
        "    \"name\": \"Alice\",\n",
        "    \"age\": 25,\n",
        "    \"city\": \"New York\"\n",
        "}\n",
        "\n",
        "file_name = 'data'\n",
        "content = str(data)\n",
        "\n",
        "path = open_file(file_name)\n",
        "\n",
        "try:\n",
        "  path.write_text(content)\n",
        "  print(f\"\\nData saved successfully to {file_name}.txt.\")\n",
        "\n",
        "except IOError:\n",
        "  print(\"Error: Unable to write to file.\")\n",
        "\n",
        "path = open_file(file_name)\n",
        "\n",
        "try:\n",
        "  print(f\"\\nContent of file {file_name}.txt \\n\", path.read_text())\n",
        "\n",
        "except IOError:\n",
        "  print(\"Error: Unable to read from the file.\")"
      ],
      "metadata": {
        "id": "FbwX2M7gKQmh",
        "colab": {
          "base_uri": "https://localhost:8080/"
        },
        "outputId": "b0c40345-3ae1-49ea-fb7c-68ae8d411134"
      },
      "execution_count": null,
      "outputs": [
        {
          "output_type": "stream",
          "name": "stdout",
          "text": [
            "\n",
            "Data saved successfully to data.txt.\n",
            "\n",
            "Content of file data.txt \n",
            " {'name': 'Alice', 'age': 25, 'city': 'New York'}\n"
          ]
        }
      ]
    },
    {
      "cell_type": "code",
      "source": [
        "import json\n",
        "from pathlib import Path\n",
        "\n",
        "# Create a dictionary\n",
        "data = {\n",
        "    \"name\": \"Alice\",\n",
        "    \"age\": 25,\n",
        "    \"city\": \"New York\"\n",
        "}\n",
        "\n",
        "file_path = Path(\"data.json\")\n",
        "\n",
        "try:\n",
        "    content = json.dumps(data)\n",
        "\n",
        "    file_path.write_text(content)\n",
        "    print(\"Data saved successfully to data.json.\")\n",
        "\n",
        "except IOError:\n",
        "    print(\"Error: Unable to write to file\")\n",
        "\n",
        "\n",
        "try:\n",
        "    content = file_path.read_text()\n",
        "    load_content= json.loads(content)\n",
        "\n",
        "    print(\"Contents of data.json:\")\n",
        "    print(load_content)\n",
        "\n",
        "except IOError:\n",
        "    print(\"Error: Unable to read from file\")"
      ],
      "metadata": {
        "colab": {
          "base_uri": "https://localhost:8080/"
        },
        "id": "O6dZ4m3rcHbv",
        "outputId": "fdb6dca7-bc1d-4b6d-8926-d03e01bcfa5f"
      },
      "execution_count": null,
      "outputs": [
        {
          "output_type": "stream",
          "name": "stdout",
          "text": [
            "Data saved successfully to data.json.\n",
            "Contents of data.json:\n",
            "{'name': 'Alice', 'age': 25, 'city': 'New York'}\n"
          ]
        }
      ]
    },
    {
      "cell_type": "markdown",
      "source": [
        "**Bonus Task**\n",
        "\n",
        "Enhance Problem 3 by allowing the user to input their own data (e.g., name, age, and city)\n",
        "instead of using hardcoded values. Include validation to ensure:\n",
        "1. Name is a string.\n",
        "2. Age is a positive integer.\n",
        "3. City is a non-empty string."
      ],
      "metadata": {
        "id": "1e9VKxZUK49t"
      }
    },
    {
      "cell_type": "code",
      "source": [
        "while True:\n",
        "    name = input(\"Enter name: \").strip()\n",
        "    if name.replace(\" \", \"\").isalpha():\n",
        "        break\n",
        "    print(\"Error: Name must only contain alphabetic characters and spaces.\")\n",
        "\n",
        "while True:\n",
        "    age = input(\"Enter age: \").strip()\n",
        "    if age.isdigit() and int(age) > 0:\n",
        "        age = int(age)\n",
        "        break\n",
        "    print(\"Error: Age must be a positive integer.\")\n",
        "\n",
        "while True:\n",
        "    city = input(\"Enter city: \").strip()\n",
        "    if city:\n",
        "        break\n",
        "    print(\"Error: City cannot be empty.\")"
      ],
      "metadata": {
        "colab": {
          "base_uri": "https://localhost:8080/"
        },
        "id": "Bi5SG2kMKDAn",
        "outputId": "91378d06-0729-4e78-f0e1-1a0e286b2c9f"
      },
      "execution_count": null,
      "outputs": [
        {
          "name": "stdout",
          "output_type": "stream",
          "text": [
            "Enter name: omnia\n",
            "Enter age: 23\n",
            "Enter city: Alex\n"
          ]
        }
      ]
    },
    {
      "cell_type": "code",
      "source": [
        "data = {\n",
        "    \"name\": name,\n",
        "    \"age\": age,\n",
        "    \"city\": city\n",
        "}\n",
        "\n",
        "file_path = Path(\"data.json\")\n",
        "\n",
        "try:\n",
        "    content = json.dumps(data)\n",
        "\n",
        "    file_path.write_text(content)\n",
        "    print(\"Data saved successfully to data.json.\")\n",
        "\n",
        "except IOError:\n",
        "    print(\"Error: Unable to write to file\")\n",
        "\n",
        "\n",
        "try:\n",
        "    content = file_path.read_text()\n",
        "    load_content= json.loads(content)\n",
        "\n",
        "    print(\"Contents of data.json:\")\n",
        "    print(load_content)\n",
        "\n",
        "except IOError:\n",
        "    print(\"Error: Unable to read from file\")"
      ],
      "metadata": {
        "colab": {
          "base_uri": "https://localhost:8080/"
        },
        "id": "1QpiksJFfCar",
        "outputId": "6c6f35f5-f256-49d8-af31-3e668bb2b93a"
      },
      "execution_count": null,
      "outputs": [
        {
          "output_type": "stream",
          "name": "stdout",
          "text": [
            "Data saved successfully to data.json.\n",
            "Contents of data.json:\n",
            "{'name': 'omnia', 'age': 23, 'city': 'Alex'}\n"
          ]
        }
      ]
    },
    {
      "cell_type": "markdown",
      "source": [
        "**Problem 4: Complete Workflow**\n",
        "\n",
        "Write a program that combines all the above steps:\n",
        "1. Reads a file and prints its contents.\n",
        "2. Writes user input to a new file.\n",
        "3. Saves data in JSON format.\n",
        "4. Validates all user inputs to ensure correctness.\n",
        "5. Ensures all exceptions are handled gracefully.\n",
        "6. Provides a menu system to navigate between the tasks.\n",
        "Example Input/Output:\n",
        "Main Menu:\n",
        "1. Read a file\n",
        "2. Write to a file\n",
        "3. Save data to JSON\n",
        "4. Exit\n",
        "Choose an option: 1\n",
        "Step 1: Enter file name to read: data.txt\n",
        "Error: File 'data.txt' not found.\n",
        "Would you like to try again? (yes/no): no\n",
        "Main Menu:\n",
        "1. Read a file\n",
        "2. Write to a file\n",
        "3. Save data to JSON\n",
        "4. Exit\n",
        "Choose an option: 2\n",
        "Enter file name to write: output.txt\n",
        "Enter text to save: Hello, world!\n",
        "Data saved successfully to output.txt.\n",
        "Contents of output.txt:\n",
        "Hello, world!\n",
        "Main Menu:\n",
        "1. Read a file\n",
        "2. Write to a file\n",
        "3. Save data to JSON\n",
        "4. Exit\n",
        "Choose an option: 4\n",
        "Goodbye!"
      ],
      "metadata": {
        "id": "8Y_pFz6HKO61"
      }
    },
    {
      "cell_type": "code",
      "source": [
        "print(\"\"\"\n",
        "Main Menu:\n",
        "1. Read a file\n",
        "2. Write to a file\n",
        "3. Save data to JSON\n",
        "4. Exit\n",
        "\"\"\")\n",
        "\n",
        "choose = int(input(\"Choose an option: \"))\n",
        "\n",
        "if choose == 1:\n",
        "  while True:\n",
        "    file_name = input(\"Enter file name: \")\n",
        "    path = open_file(file_name)\n",
        "\n",
        "    try:\n",
        "      contents = path.read_text()\n",
        "      print(\"Contents of example.txt:\\n\", contents)\n",
        "      break\n",
        "\n",
        "    except FileNotFoundError:\n",
        "      print(\"\\nError: File not found.\")\n",
        "\n",
        "      try_again = input(\"\\nTry again? (yes/no): \").strip()\n",
        "      if try_again.lower() == \"yes\":\n",
        "        continue\n",
        "      else:\n",
        "        break\n",
        "\n",
        "\n",
        "elif choose == 2:\n",
        "  file_name = input(\"Enter file name: \")  #task2_file\n",
        "  text = input(\"Enter text to save: \")    #File 2 content ..........\n",
        "\n",
        "  path = open_file(file_name)\n",
        "\n",
        "  try:\n",
        "    path.write_text(text)\n",
        "    print(f\"\\nData saved successfully to {file_name}.txt.\")\n",
        "\n",
        "  except PermissionError:\n",
        "    print(f\"\\nError: Permission denied to write to '{file_name}.text'\")\n",
        "\n",
        "\n",
        "elif choose == 3:\n",
        "\n",
        "  text = input(\"Enter text to save: \")    #File 2 content ..........\n",
        "  file_path = Path(\"json_data.json\")\n",
        "\n",
        "  try:\n",
        "      content = json.dumps(text)\n",
        "\n",
        "      file_path.write_text(content)\n",
        "      print(f\"Data saved successfully to {file_path}.\")\n",
        "\n",
        "  except IOError:\n",
        "      print(\"Error: Unable to write to file\")\n",
        "\n",
        "\n",
        "elif choose == 4:\n",
        "  print(\"Goodbye!\")\n",
        "\n",
        "\n",
        "else:\n",
        "  print(\"Invalid option\")"
      ],
      "metadata": {
        "colab": {
          "base_uri": "https://localhost:8080/"
        },
        "id": "6-HcIr3JfzYx",
        "outputId": "ad8ce2b1-ebeb-4ae0-d6fe-7be05ef5ec80"
      },
      "execution_count": null,
      "outputs": [
        {
          "output_type": "stream",
          "name": "stdout",
          "text": [
            "\n",
            "Main Menu:\n",
            "1. Read a file\n",
            "2. Write to a file\n",
            "3. Save data to JSON\n",
            "4. Exit\n",
            "\n",
            "Choose an option: 3\n",
            "Enter text to save: tttgg\n",
            "Data saved successfully to json_data.json.\n"
          ]
        }
      ]
    },
    {
      "cell_type": "markdown",
      "source": [
        "**Problem 5: Validate User Inputs**\n",
        "\n",
        "Write a Python program that:\n",
        "1. Prompts the user to enter their name, age, and email.\n",
        "2. Validates the inputs as follows:\n",
        "o Name must only contain alphabetic characters and spaces.\n",
        "o Age must be a positive integer.\n",
        "o Email must follow a standard email format (e.g., contain \"@\" and \".\").\n",
        "3. Handles the following exceptions:\n",
        "o ValueError if the age is not an integer.\n",
        "4. Outputs the validated data.\n",
        "Example Input:\n",
        "Enter your name: John Doe\n",
        "Enter your age: 25\n",
        "Enter your email: john.doe@example.com\n",
        "Example Output:\n",
        "Validated Data:\n",
        "Name: John Doe\n",
        "Age: 25\n",
        "Email: john.doe@example.com\n",
        "Error Example:\n",
        "Enter your age: twenty-five\n",
        "Error: Age must be a valid integer."
      ],
      "metadata": {
        "id": "VFI4G7o7KRnp"
      }
    },
    {
      "cell_type": "code",
      "source": [
        "while True:\n",
        "    name = input(\"Enter name: \").strip()\n",
        "    if name.replace(\" \", \"\").isalpha():\n",
        "        break\n",
        "    print(\"Error: Name must only contain alphabetic characters and spaces.\")\n",
        "\n",
        "while True:\n",
        "    age = input(\"Enter age: \").strip()\n",
        "    if age.isdigit() and int(age) > 0:\n",
        "        age = int(age)\n",
        "        break\n",
        "    print(\"Error: Age must be a positive integer.\")\n",
        "\n",
        "while True:\n",
        "  email = input(\"Enter your email: \")\n",
        "\n",
        "  pattern = '^[A-Za-z\\0-9\\.]+@[A-Za-z\\0-9\\.]+.[A-Za-z]+$'\n",
        "\n",
        "  if re.match(pattern, email):\n",
        "    break\n",
        "  else:\n",
        "    print(\"Invalid email\")\n",
        "    continue\n",
        "\n",
        "print(\"\\nValidated Data:\")\n",
        "print(f\"Name: {name}\")\n",
        "print(f\"Age: {age}\")\n",
        "print(f\"Email: {email}\")"
      ],
      "metadata": {
        "colab": {
          "base_uri": "https://localhost:8080/"
        },
        "id": "I5ZJ3CC7YBDY",
        "outputId": "acf306cc-06b8-47fd-c4f8-d6a3d82f534e"
      },
      "execution_count": null,
      "outputs": [
        {
          "output_type": "stream",
          "name": "stdout",
          "text": [
            "Enter name: omnia\n",
            "Enter age: 23\n",
            "Enter your email: omnia@gmail.com\n",
            "omnia@gmail.com\n",
            "\n",
            "Validated Data:\n",
            "Name: omnia\n",
            "Age: 23\n",
            "Email: omnia@gmail.com\n"
          ]
        }
      ]
    },
    {
      "cell_type": "code",
      "source": [
        "import re\n",
        "\n",
        "while True:\n",
        "  name = input(\"Enter your name: \")\n",
        "\n",
        "  pattern = '^([A-Za-z]+|\\s+)$'\n",
        "  if re.match(pattern, name):\n",
        "    print(name)\n",
        "    break\n",
        "  else:\n",
        "    print(\"Invalid name.\\n Try again!\")\n",
        "    continue\n",
        "\n",
        "while True:\n",
        "  age = int(input(\"Enter your age: \"))\n",
        "\n",
        "  pattern = '^[0-9]$'\n",
        "  if re.match(pattern, age):\n",
        "    if age > 0:\n",
        "      print(age)\n",
        "      break\n",
        "\n",
        "    else:\n",
        "      print(\"Age must be > 0\")\n",
        "\n",
        "  else:\n",
        "    print(\"Invalid age\")\n",
        "    continue\n",
        "\n",
        "while True:\n",
        "  email = input(\"Enter your email: \")\n",
        "\n",
        "  pattern = '^[A-Za-z\\0-9\\.]+@[A-Za-z\\0-9\\.].[A-Za-z]$'\n",
        "\n",
        "  if re.match(pattern, email):\n",
        "    print(email)\n",
        "    break\n",
        "  else:\n",
        "    print(\"Invalid email\")\n",
        "    continue\n",
        "\n",
        "print(\"\\nValidated Data:\")\n",
        "print(f\"Name: {name}\")\n",
        "print(f\"Age: {age}\")\n",
        "print(f\"Email: {email}\")"
      ],
      "metadata": {
        "id": "rkPGxS2YKRUn",
        "collapsed": true,
        "colab": {
          "base_uri": "https://localhost:8080/",
          "height": 384
        },
        "outputId": "1391ad16-e6dc-49d4-87e9-e9ebfd6e9c19"
      },
      "execution_count": null,
      "outputs": [
        {
          "name": "stdout",
          "output_type": "stream",
          "text": [
            "Enter your name: omnia\n",
            "omnia\n",
            "Enter your age: 33\n"
          ]
        },
        {
          "output_type": "error",
          "ename": "TypeError",
          "evalue": "expected string or bytes-like object",
          "traceback": [
            "\u001b[0;31m---------------------------------------------------------------------------\u001b[0m",
            "\u001b[0;31mTypeError\u001b[0m                                 Traceback (most recent call last)",
            "\u001b[0;32m<ipython-input-54-51cb0df265fe>\u001b[0m in \u001b[0;36m<cell line: 14>\u001b[0;34m()\u001b[0m\n\u001b[1;32m     16\u001b[0m \u001b[0;34m\u001b[0m\u001b[0m\n\u001b[1;32m     17\u001b[0m   \u001b[0mpattern\u001b[0m \u001b[0;34m=\u001b[0m \u001b[0;34m'^[0-9]$'\u001b[0m\u001b[0;34m\u001b[0m\u001b[0;34m\u001b[0m\u001b[0m\n\u001b[0;32m---> 18\u001b[0;31m   \u001b[0;32mif\u001b[0m \u001b[0mre\u001b[0m\u001b[0;34m.\u001b[0m\u001b[0mmatch\u001b[0m\u001b[0;34m(\u001b[0m\u001b[0mpattern\u001b[0m\u001b[0;34m,\u001b[0m \u001b[0mage\u001b[0m\u001b[0;34m)\u001b[0m\u001b[0;34m:\u001b[0m\u001b[0;34m\u001b[0m\u001b[0;34m\u001b[0m\u001b[0m\n\u001b[0m\u001b[1;32m     19\u001b[0m     \u001b[0;32mif\u001b[0m \u001b[0mage\u001b[0m \u001b[0;34m>\u001b[0m \u001b[0;36m0\u001b[0m\u001b[0;34m:\u001b[0m\u001b[0;34m\u001b[0m\u001b[0;34m\u001b[0m\u001b[0m\n\u001b[1;32m     20\u001b[0m       \u001b[0mprint\u001b[0m\u001b[0;34m(\u001b[0m\u001b[0mage\u001b[0m\u001b[0;34m)\u001b[0m\u001b[0;34m\u001b[0m\u001b[0;34m\u001b[0m\u001b[0m\n",
            "\u001b[0;32m/usr/lib/python3.10/re.py\u001b[0m in \u001b[0;36mmatch\u001b[0;34m(pattern, string, flags)\u001b[0m\n\u001b[1;32m    188\u001b[0m     \"\"\"Try to apply the pattern at the start of the string, returning\n\u001b[1;32m    189\u001b[0m     a Match object, or None if no match was found.\"\"\"\n\u001b[0;32m--> 190\u001b[0;31m     \u001b[0;32mreturn\u001b[0m \u001b[0m_compile\u001b[0m\u001b[0;34m(\u001b[0m\u001b[0mpattern\u001b[0m\u001b[0;34m,\u001b[0m \u001b[0mflags\u001b[0m\u001b[0;34m)\u001b[0m\u001b[0;34m.\u001b[0m\u001b[0mmatch\u001b[0m\u001b[0;34m(\u001b[0m\u001b[0mstring\u001b[0m\u001b[0;34m)\u001b[0m\u001b[0;34m\u001b[0m\u001b[0;34m\u001b[0m\u001b[0m\n\u001b[0m\u001b[1;32m    191\u001b[0m \u001b[0;34m\u001b[0m\u001b[0m\n\u001b[1;32m    192\u001b[0m \u001b[0;32mdef\u001b[0m \u001b[0mfullmatch\u001b[0m\u001b[0;34m(\u001b[0m\u001b[0mpattern\u001b[0m\u001b[0;34m,\u001b[0m \u001b[0mstring\u001b[0m\u001b[0;34m,\u001b[0m \u001b[0mflags\u001b[0m\u001b[0;34m=\u001b[0m\u001b[0;36m0\u001b[0m\u001b[0;34m)\u001b[0m\u001b[0;34m:\u001b[0m\u001b[0;34m\u001b[0m\u001b[0;34m\u001b[0m\u001b[0m\n",
            "\u001b[0;31mTypeError\u001b[0m: expected string or bytes-like object"
          ]
        }
      ]
    },
    {
      "cell_type": "code",
      "source": [
        "import re"
      ],
      "metadata": {
        "id": "fHsKLC-0UOOx"
      },
      "execution_count": null,
      "outputs": []
    },
    {
      "cell_type": "code",
      "source": [
        "name = 'omnia'\n",
        "\n",
        "pattern = '^([A-Za-z]+ | \\s+)$'\n",
        "print(re.match(pattern, name))"
      ],
      "metadata": {
        "colab": {
          "base_uri": "https://localhost:8080/"
        },
        "id": "qcHopb-8UFpJ",
        "outputId": "bb96b819-850d-405f-8aee-51282c2b8b9e"
      },
      "execution_count": null,
      "outputs": [
        {
          "output_type": "stream",
          "name": "stdout",
          "text": [
            "None\n"
          ]
        }
      ]
    },
    {
      "cell_type": "code",
      "source": [
        "while True:\n",
        "  name = input(\"Enter your name: \")\n",
        "\n",
        "  age = input(\"Enter your age: \")\n",
        "  email = input(\"Enter your email: \")"
      ],
      "metadata": {
        "id": "wEXTO6srTxs_"
      },
      "execution_count": null,
      "outputs": []
    },
    {
      "cell_type": "code",
      "source": [
        "import re\n",
        "\n",
        "def validate_name(name):\n",
        "  pattern = '^([A-Za-z]+ | \\s+)$'\n",
        "  try:\n",
        "    re.match(pattern, name) == True\n",
        "    return name\n",
        "  except:\n",
        "    return \"Invalid name\"\n",
        "\n",
        "def validate_age(age):\n",
        "  pattern = '^[0-9]$'\n",
        "  if re.match(pattern, age) and age > 0:\n",
        "    return age\n",
        "  else:\n",
        "    return \"Invalid age\"\n",
        "\n",
        "def validate_email(email):\n",
        "  pattern = '^[A-Za-z\\0-9\\.]+@[A-Za-z\\0-9\\.].[A-Za-z]$'\n",
        "\n",
        "  if re.match(pattern, email):\n",
        "    return email\n",
        "  else:\n",
        "    return \"Invalid email\"\n",
        "\n",
        "def validate_city(city):\n",
        "  pattern = '^[A-Za-z\\s]+$'\n",
        "  if re.match(pattern, city):\n",
        "    return city\n",
        "  else:\n",
        "    return \"Invalid city\""
      ],
      "metadata": {
        "collapsed": true,
        "id": "KgtS-7WLO8Xl"
      },
      "execution_count": null,
      "outputs": []
    },
    {
      "cell_type": "code",
      "source": [
        "!touch calculations.py"
      ],
      "metadata": {
        "id": "p7FtTfWDxrnl"
      },
      "execution_count": null,
      "outputs": []
    },
    {
      "cell_type": "code",
      "source": [
        "'''\n",
        "def cal_sum(num1, num2):\n",
        "  total = sum1+sum2\n",
        "  return total\n",
        "\n",
        "def cal_sub(num1, num2):\n",
        "  total = sum1-sum2\n",
        "  return total\n",
        "\n",
        "def cal_product(num1, num2):\n",
        "  total = sum1*sum2\n",
        "  return total\n",
        "\n",
        "def cal_dev(num1, num2):\n",
        "  total = sum1/sum2\n",
        "  return total\n",
        "\n",
        "'''"
      ],
      "metadata": {
        "id": "GRD43ic36M_t"
      },
      "execution_count": null,
      "outputs": []
    },
    {
      "cell_type": "code",
      "source": [
        "from calculations import cal_sum\n",
        "\n",
        "total = cal_sum(1, 2)\n",
        "print(total)"
      ],
      "metadata": {
        "colab": {
          "base_uri": "https://localhost:8080/"
        },
        "id": "IgMq0XFuxrhk",
        "outputId": "13b4108f-3871-4187-c4bc-ded579c7ac84"
      },
      "execution_count": null,
      "outputs": [
        {
          "output_type": "stream",
          "name": "stdout",
          "text": [
            "3\n"
          ]
        }
      ]
    },
    {
      "cell_type": "code",
      "source": [
        "from calculations import cal_sub\n",
        "\n",
        "total = cal_sub(3, 4)\n",
        "print(total)\n"
      ],
      "metadata": {
        "colab": {
          "base_uri": "https://localhost:8080/"
        },
        "collapsed": true,
        "id": "BeSQSAfCzCGK",
        "outputId": "d570eaf6-fcd4-44cc-f649-daf58b362b1c"
      },
      "execution_count": null,
      "outputs": [
        {
          "output_type": "stream",
          "name": "stdout",
          "text": [
            "-1\n"
          ]
        }
      ]
    },
    {
      "cell_type": "code",
      "source": [
        "from calculations import cal_product\n",
        "\n",
        "total = cal_product(5, 6)\n",
        "print(total)"
      ],
      "metadata": {
        "colab": {
          "base_uri": "https://localhost:8080/"
        },
        "id": "hGaI4L8K0J54",
        "outputId": "524383cb-0f42-415b-abee-ab38c93a13a4"
      },
      "execution_count": null,
      "outputs": [
        {
          "output_type": "stream",
          "name": "stdout",
          "text": [
            "30\n"
          ]
        }
      ]
    },
    {
      "cell_type": "code",
      "source": [
        "from calculations import cal_dev\n",
        "\n",
        "total = cal_dev(7, 8)\n",
        "print(total)"
      ],
      "metadata": {
        "colab": {
          "base_uri": "https://localhost:8080/"
        },
        "id": "dRvuQJPr18J-",
        "outputId": "9520a107-2113-4cee-d981-1ad9c32cd095"
      },
      "execution_count": null,
      "outputs": [
        {
          "output_type": "stream",
          "name": "stdout",
          "text": [
            "0.875\n"
          ]
        }
      ]
    }
  ]
}