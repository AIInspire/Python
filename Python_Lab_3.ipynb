{
  "nbformat": 4,
  "nbformat_minor": 0,
  "metadata": {
    "colab": {
      "provenance": [],
      "authorship_tag": "ABX9TyMep9V9cQWtx0iBOa2mxdwj",
      "include_colab_link": true
    },
    "kernelspec": {
      "name": "python3",
      "display_name": "Python 3"
    },
    "language_info": {
      "name": "python"
    }
  },
  "cells": [
    {
      "cell_type": "markdown",
      "metadata": {
        "id": "view-in-github",
        "colab_type": "text"
      },
      "source": [
        "<a href=\"https://colab.research.google.com/github/AIInspire/Python/blob/main/Python_Lab_3.ipynb\" target=\"_parent\"><img src=\"https://colab.research.google.com/assets/colab-badge.svg\" alt=\"Open In Colab\"/></a>"
      ]
    },
    {
      "cell_type": "markdown",
      "source": [
        "# lecture practices:"
      ],
      "metadata": {
        "id": "pzLvGtk6fQCT"
      }
    },
    {
      "cell_type": "code",
      "source": [
        "def calc_mean(num1, num2, num3):\n",
        "  mean_value = (num1+num2+num3)/3\n",
        "  return mean_value\n",
        "\n",
        "calc_mean(5, 3, 1)"
      ],
      "metadata": {
        "colab": {
          "base_uri": "https://localhost:8080/"
        },
        "id": "kcVmMh49rqsX",
        "outputId": "75da9a48-b0a1-4902-ef1e-10813908ab26"
      },
      "execution_count": null,
      "outputs": [
        {
          "output_type": "execute_result",
          "data": {
            "text/plain": [
              "3.0"
            ]
          },
          "metadata": {},
          "execution_count": 1
        }
      ]
    },
    {
      "cell_type": "code",
      "source": [
        "def abs_value(x):\n",
        "  if x < 0:\n",
        "    return -x\n",
        "  else:\n",
        "    return x\n",
        "\n",
        "  return \"This is a dead code!\"\n",
        "\n",
        "abs_value(-5)"
      ],
      "metadata": {
        "colab": {
          "base_uri": "https://localhost:8080/"
        },
        "id": "8Aj9n4pZrvG7",
        "outputId": "175d470c-31d6-4b65-d2c8-28c41de5bc1b"
      },
      "execution_count": null,
      "outputs": [
        {
          "output_type": "execute_result",
          "data": {
            "text/plain": [
              "5"
            ]
          },
          "metadata": {},
          "execution_count": 2
        }
      ]
    },
    {
      "cell_type": "code",
      "source": [
        "cubes = [c for c in range(1, 11)]\n",
        "cubes"
      ],
      "metadata": {
        "colab": {
          "base_uri": "https://localhost:8080/"
        },
        "id": "JsBq6q8EvXRS",
        "outputId": "9bae2ff6-186d-4947-81c7-d3919f66b23f"
      },
      "execution_count": null,
      "outputs": [
        {
          "output_type": "execute_result",
          "data": {
            "text/plain": [
              "[0, 1, 2, 3, 4, 5, 6, 7, 8, 9]"
            ]
          },
          "metadata": {},
          "execution_count": 1
        }
      ]
    },
    {
      "cell_type": "code",
      "source": [
        "odd_nums = [odd for odd in range(20) if odd % 2 == 1]\n",
        "odd_nums"
      ],
      "metadata": {
        "colab": {
          "base_uri": "https://localhost:8080/"
        },
        "id": "Ya8tmrgSRfll",
        "outputId": "c7987799-2989-4f2f-c01a-75d6acc7de33"
      },
      "execution_count": null,
      "outputs": [
        {
          "output_type": "execute_result",
          "data": {
            "text/plain": [
              "[1, 3, 5, 7, 9, 11, 13, 15, 17, 19]"
            ]
          },
          "metadata": {},
          "execution_count": 2
        }
      ]
    },
    {
      "cell_type": "code",
      "source": [
        "tables = [x*y for x in range(3, 30) for y in range(1, 11)]\n",
        "tables"
      ],
      "metadata": {
        "colab": {
          "base_uri": "https://localhost:8080/"
        },
        "id": "ENdIQ3lORqje",
        "outputId": "11e333a2-25f4-4c35-9b7f-5547a8743345"
      },
      "execution_count": null,
      "outputs": [
        {
          "output_type": "execute_result",
          "data": {
            "text/plain": [
              "[3,\n",
              " 6,\n",
              " 9,\n",
              " 12,\n",
              " 15,\n",
              " 18,\n",
              " 21,\n",
              " 24,\n",
              " 27,\n",
              " 30,\n",
              " 4,\n",
              " 8,\n",
              " 12,\n",
              " 16,\n",
              " 20,\n",
              " 24,\n",
              " 28,\n",
              " 32,\n",
              " 36,\n",
              " 40,\n",
              " 5,\n",
              " 10,\n",
              " 15,\n",
              " 20,\n",
              " 25,\n",
              " 30,\n",
              " 35,\n",
              " 40,\n",
              " 45,\n",
              " 50,\n",
              " 6,\n",
              " 12,\n",
              " 18,\n",
              " 24,\n",
              " 30,\n",
              " 36,\n",
              " 42,\n",
              " 48,\n",
              " 54,\n",
              " 60,\n",
              " 7,\n",
              " 14,\n",
              " 21,\n",
              " 28,\n",
              " 35,\n",
              " 42,\n",
              " 49,\n",
              " 56,\n",
              " 63,\n",
              " 70,\n",
              " 8,\n",
              " 16,\n",
              " 24,\n",
              " 32,\n",
              " 40,\n",
              " 48,\n",
              " 56,\n",
              " 64,\n",
              " 72,\n",
              " 80,\n",
              " 9,\n",
              " 18,\n",
              " 27,\n",
              " 36,\n",
              " 45,\n",
              " 54,\n",
              " 63,\n",
              " 72,\n",
              " 81,\n",
              " 90,\n",
              " 10,\n",
              " 20,\n",
              " 30,\n",
              " 40,\n",
              " 50,\n",
              " 60,\n",
              " 70,\n",
              " 80,\n",
              " 90,\n",
              " 100,\n",
              " 11,\n",
              " 22,\n",
              " 33,\n",
              " 44,\n",
              " 55,\n",
              " 66,\n",
              " 77,\n",
              " 88,\n",
              " 99,\n",
              " 110,\n",
              " 12,\n",
              " 24,\n",
              " 36,\n",
              " 48,\n",
              " 60,\n",
              " 72,\n",
              " 84,\n",
              " 96,\n",
              " 108,\n",
              " 120,\n",
              " 13,\n",
              " 26,\n",
              " 39,\n",
              " 52,\n",
              " 65,\n",
              " 78,\n",
              " 91,\n",
              " 104,\n",
              " 117,\n",
              " 130,\n",
              " 14,\n",
              " 28,\n",
              " 42,\n",
              " 56,\n",
              " 70,\n",
              " 84,\n",
              " 98,\n",
              " 112,\n",
              " 126,\n",
              " 140,\n",
              " 15,\n",
              " 30,\n",
              " 45,\n",
              " 60,\n",
              " 75,\n",
              " 90,\n",
              " 105,\n",
              " 120,\n",
              " 135,\n",
              " 150,\n",
              " 16,\n",
              " 32,\n",
              " 48,\n",
              " 64,\n",
              " 80,\n",
              " 96,\n",
              " 112,\n",
              " 128,\n",
              " 144,\n",
              " 160,\n",
              " 17,\n",
              " 34,\n",
              " 51,\n",
              " 68,\n",
              " 85,\n",
              " 102,\n",
              " 119,\n",
              " 136,\n",
              " 153,\n",
              " 170,\n",
              " 18,\n",
              " 36,\n",
              " 54,\n",
              " 72,\n",
              " 90,\n",
              " 108,\n",
              " 126,\n",
              " 144,\n",
              " 162,\n",
              " 180,\n",
              " 19,\n",
              " 38,\n",
              " 57,\n",
              " 76,\n",
              " 95,\n",
              " 114,\n",
              " 133,\n",
              " 152,\n",
              " 171,\n",
              " 190,\n",
              " 20,\n",
              " 40,\n",
              " 60,\n",
              " 80,\n",
              " 100,\n",
              " 120,\n",
              " 140,\n",
              " 160,\n",
              " 180,\n",
              " 200,\n",
              " 21,\n",
              " 42,\n",
              " 63,\n",
              " 84,\n",
              " 105,\n",
              " 126,\n",
              " 147,\n",
              " 168,\n",
              " 189,\n",
              " 210,\n",
              " 22,\n",
              " 44,\n",
              " 66,\n",
              " 88,\n",
              " 110,\n",
              " 132,\n",
              " 154,\n",
              " 176,\n",
              " 198,\n",
              " 220,\n",
              " 23,\n",
              " 46,\n",
              " 69,\n",
              " 92,\n",
              " 115,\n",
              " 138,\n",
              " 161,\n",
              " 184,\n",
              " 207,\n",
              " 230,\n",
              " 24,\n",
              " 48,\n",
              " 72,\n",
              " 96,\n",
              " 120,\n",
              " 144,\n",
              " 168,\n",
              " 192,\n",
              " 216,\n",
              " 240,\n",
              " 25,\n",
              " 50,\n",
              " 75,\n",
              " 100,\n",
              " 125,\n",
              " 150,\n",
              " 175,\n",
              " 200,\n",
              " 225,\n",
              " 250,\n",
              " 26,\n",
              " 52,\n",
              " 78,\n",
              " 104,\n",
              " 130,\n",
              " 156,\n",
              " 182,\n",
              " 208,\n",
              " 234,\n",
              " 260,\n",
              " 27,\n",
              " 54,\n",
              " 81,\n",
              " 108,\n",
              " 135,\n",
              " 162,\n",
              " 189,\n",
              " 216,\n",
              " 243,\n",
              " 270,\n",
              " 28,\n",
              " 56,\n",
              " 84,\n",
              " 112,\n",
              " 140,\n",
              " 168,\n",
              " 196,\n",
              " 224,\n",
              " 252,\n",
              " 280,\n",
              " 29,\n",
              " 58,\n",
              " 87,\n",
              " 116,\n",
              " 145,\n",
              " 174,\n",
              " 203,\n",
              " 232,\n",
              " 261,\n",
              " 290]"
            ]
          },
          "metadata": {},
          "execution_count": 4
        }
      ]
    },
    {
      "cell_type": "code",
      "source": [
        "animals = ['cat', 'elephant', 'dog', 'giraffe', 'fox']\n",
        "\n",
        "filtered_animals = [animal for animal in animals if len(animal)> 4]\n",
        "filtered_animals"
      ],
      "metadata": {
        "colab": {
          "base_uri": "https://localhost:8080/"
        },
        "id": "boRrCmtsSoAX",
        "outputId": "be67cbc8-4abd-4b2c-e522-3a47db71255a"
      },
      "execution_count": null,
      "outputs": [
        {
          "output_type": "execute_result",
          "data": {
            "text/plain": [
              "['elephant', 'giraffe']"
            ]
          },
          "metadata": {},
          "execution_count": 5
        }
      ]
    },
    {
      "cell_type": "code",
      "source": [
        "letters = ['a', 'b', 'c', 'd', 'e']\n",
        "\n",
        "letters[-3: -1]"
      ],
      "metadata": {
        "colab": {
          "base_uri": "https://localhost:8080/"
        },
        "id": "2D1zkT8QV7xQ",
        "outputId": "9b185d10-ea33-416b-9f1f-b2a9344eb228"
      },
      "execution_count": null,
      "outputs": [
        {
          "output_type": "execute_result",
          "data": {
            "text/plain": [
              "['c', 'd']"
            ]
          },
          "metadata": {},
          "execution_count": 7
        }
      ]
    },
    {
      "cell_type": "markdown",
      "source": [
        "# Lab 4 -- Part 1:"
      ],
      "metadata": {
        "id": "goNTz5r7lWqd"
      }
    },
    {
      "cell_type": "markdown",
      "source": [
        "**1.  Addition and Removal**\n",
        "\n",
        "Please write a program which asks the user to choose between addition and removal.\n",
        "Depending on the choice, the program adds an item to or removes an item from the end of\n",
        "a list. The item that is added must always be one greater than the last item in the list. The\n",
        "first item to be added must be 1.\n",
        "The list is printed out in the beginning and after each operation. Have a look at the example\n",
        "execution below:\n",
        "The list is now []\n",
        "a(d)d, (r)emove or e(x)it: d\n",
        "The list is now [1]\n",
        "a(d)d, (r)emove or e(x)it: d\n",
        "The list is now [1, 2]\n",
        "a(d)d, (r)emove or e(x)it: d\n",
        "The list is now [1, 2, 3]\n",
        "a(d)d, (r)emove or e(x)it: r\n",
        "The list is now [1, 2]\n",
        "a(d)d, (r)emove or e(x)it: d\n",
        "The list is now [1, 2, 3]\n",
        "a(d)d, (r)emove or e(x)it: x\n",
        "Bye!\n"
      ],
      "metadata": {
        "id": "Cz6Vem9hlgZe"
      }
    },
    {
      "cell_type": "code",
      "source": [
        "our_list = []\n",
        "print(\"The list is now:\", our_list)\n",
        "\n",
        "process = input(\"Enter:\\n(d)add \\n(r)remove \\n(x)exit:\\n \").lower()\n",
        "\n",
        "while process != \"x\":\n",
        "  if process == \"d\":\n",
        "    if len(our_list) == 0:\n",
        "      our_list.append(1)\n",
        "    else:\n",
        "      our_list.append(our_list[-1] + 1)\n",
        "\n",
        "  elif process == \"r\":\n",
        "    if len(our_list) == 0:\n",
        "      print(\"Can't remove. The list is already empty!\")\n",
        "    else:\n",
        "      our_list.pop()\n",
        "\n",
        "  print(\"The list is now:\", our_list)\n",
        "  process = input(\"Enter:\\n(d)add \\n(r)remove \\n(x)exit: \").lower()\n",
        "\n",
        "print(\"Bye!\")"
      ],
      "metadata": {
        "colab": {
          "base_uri": "https://localhost:8080/"
        },
        "id": "y_3YKjDDlWGi",
        "outputId": "5b83fdfa-ab6a-4a5b-fb35-a904fcb4d94a"
      },
      "execution_count": null,
      "outputs": [
        {
          "output_type": "stream",
          "name": "stdout",
          "text": [
            "The list is now: []\n",
            "Enter:\n",
            "(d)add \n",
            "(r)remove \n",
            "(x)exit:\n",
            " d\n",
            "The list is now: [1]\n",
            "Enter:\n",
            "(d)add \n",
            "(r)remove \n",
            "(x)exit: d\n",
            "The list is now: [1, 2]\n",
            "Enter:\n",
            "(d)add \n",
            "(r)remove \n",
            "(x)exit: d\n",
            "The list is now: [1, 2, 3]\n",
            "Enter:\n",
            "(d)add \n",
            "(r)remove \n",
            "(x)exit: r\n",
            "The list is now: [1, 2]\n",
            "Enter:\n",
            "(d)add \n",
            "(r)remove \n",
            "(x)exit: d\n",
            "The list is now: [1, 2, 3]\n",
            "Enter:\n",
            "(d)add \n",
            "(r)remove \n",
            "(x)exit: x\n",
            "Bye!\n"
          ]
        }
      ]
    },
    {
      "cell_type": "code",
      "source": [
        "our_list = []\n",
        "print(\"The list is now:\", our_list)\n",
        "\n",
        "process = input(\"Enter:\\n(d)add \\n(r)remove \\n(x)exit:\\n \").lower()\n",
        "\n",
        "while process != \"x\":\n",
        "  if process == \"d\":\n",
        "    if len(our_list) == 0:\n",
        "      our_list.append(1)\n",
        "    else:\n",
        "      our_list.append(len(our_list) + 1)\n",
        "\n",
        "  elif process == \"r\":\n",
        "    if len(our_list) == 0:\n",
        "      print(\"Can't remove. The list is already empty!\")\n",
        "    else:\n",
        "      our_list.pop()\n",
        "\n",
        "  print(\"The list is now:\", our_list)\n",
        "  process = input(\"Enter:\\n(d)add \\n(r)remove \\n(x)exit: \").lower()\n",
        "\n",
        "print(\"Bye!\")"
      ],
      "metadata": {
        "colab": {
          "base_uri": "https://localhost:8080/"
        },
        "id": "F5strIsdxNr_",
        "outputId": "88701d81-d9b6-49e2-8f7e-934c6394dfb9"
      },
      "execution_count": null,
      "outputs": [
        {
          "output_type": "stream",
          "name": "stdout",
          "text": [
            "The list is now: []\n",
            "Enter:\n",
            "(d)add \n",
            "(r)remove \n",
            "(x)exit:\n",
            " d\n",
            "The list is now: [1]\n",
            "Enter:\n",
            "(d)add \n",
            "(r)remove \n",
            "(x)exit: d\n",
            "The list is now: [1, 2]\n",
            "Enter:\n",
            "(d)add \n",
            "(r)remove \n",
            "(x)exit: d\n",
            "The list is now: [1, 2, 3]\n",
            "Enter:\n",
            "(d)add \n",
            "(r)remove \n",
            "(x)exit: r\n",
            "The list is now: [1, 2]\n",
            "Enter:\n",
            "(d)add \n",
            "(r)remove \n",
            "(x)exit: d\n",
            "The list is now: [1, 2, 3]\n",
            "Enter:\n",
            "(d)add \n",
            "(r)remove \n",
            "(x)exit: x\n",
            "Bye!\n"
          ]
        }
      ]
    },
    {
      "cell_type": "markdown",
      "source": [
        "**Distinct Numbers**\n",
        "\n",
        "Please write a function named distinct_numbers, which takes a list of integers as its\n",
        "argument. The function returns a new list containing the numbers from the original list in\n",
        "order of magnitude, and so that each distinct number is present only once.\n",
        "Sample Output:\n",
        "my_list = [3, 2, 2, 1, 3, 3, 1]\n",
        "print(distinct_numbers(my_list)) # [1, 2, 3]"
      ],
      "metadata": {
        "id": "Qc3RTGIJoLS_"
      }
    },
    {
      "cell_type": "code",
      "source": [
        "def distinct_numbers(our_list):\n",
        "  new_list = []\n",
        "  for num in our_list:\n",
        "    if num not in new_list:\n",
        "      new_list.append(num)\n",
        "\n",
        "  new_list.sort()\n",
        "  return new_list\n",
        "\n",
        "my_list = [3, 2, 2, 1, 3, 3, 1]\n",
        "print(distinct_numbers(my_list))"
      ],
      "metadata": {
        "colab": {
          "base_uri": "https://localhost:8080/"
        },
        "id": "UIlTwESgmzyg",
        "outputId": "327da8a0-4885-4820-e120-b6c8ce435bbf"
      },
      "execution_count": null,
      "outputs": [
        {
          "output_type": "stream",
          "name": "stdout",
          "text": [
            "[1, 2, 3]\n"
          ]
        }
      ]
    },
    {
      "cell_type": "code",
      "source": [
        "def distinct_numbers(our_list):\n",
        "    new_list = []\n",
        "    for num in our_list:\n",
        "        if num in new_list:\n",
        "            continue\n",
        "        else:\n",
        "          new_list.append(num)\n",
        "\n",
        "    new_list.sort()\n",
        "    return new_list\n",
        "\n",
        "\n",
        "my_list = [3, 2, 2, 1, 3, 3, 1]\n",
        "print(distinct_numbers(my_list))"
      ],
      "metadata": {
        "colab": {
          "base_uri": "https://localhost:8080/"
        },
        "id": "O44jtkdMt6VA",
        "outputId": "8ff95cc7-3e29-4f07-a02d-975d004d4409"
      },
      "execution_count": null,
      "outputs": [
        {
          "output_type": "stream",
          "name": "stdout",
          "text": [
            "[1, 2, 3]\n"
          ]
        }
      ]
    },
    {
      "cell_type": "markdown",
      "source": [
        "**3. The length of the longest in the list**\n",
        "\n",
        "Please write a function named length_of_longest, which takes a list of strings as its\n",
        "argument. The function returns the length of the longest string.\n",
        "my_list = [\"first\", \"second\", \"fourth\", \"eleventh\"]\n",
        "result = length_of_longest(my_list)\n",
        "print(result) # 8\n",
        "my_list = [\"adele\", \"mark\", \"dorothy\", \"tim\", \"hedy\", \"richard\"]\n",
        "result = length_of_longest(my_list)\n",
        "print(result) # 7"
      ],
      "metadata": {
        "id": "29HDwiNpq1XH"
      }
    },
    {
      "cell_type": "code",
      "source": [
        "def length_of_longest(our_list):\n",
        "  longest = 0\n",
        "  for word in our_list:\n",
        "    if len(word) > longest:\n",
        "      longest = len(word)\n",
        "\n",
        "  return longest\n",
        "\n",
        "my_list = [\"first\", \"second\", \"fourth\", \"eleventh\"]\n",
        "result = length_of_longest(my_list)\n",
        "print(result)\n",
        "\n",
        "my_list = [\"adele\", \"mark\", \"dorothy\", \"tim\", \"hedy\", \"richard\"]\n",
        "result = length_of_longest(my_list)\n",
        "print(result)"
      ],
      "metadata": {
        "colab": {
          "base_uri": "https://localhost:8080/"
        },
        "id": "zYPkh-cnqCS6",
        "outputId": "20abfef5-9443-4bcd-c729-cb5c82995fff"
      },
      "execution_count": null,
      "outputs": [
        {
          "output_type": "stream",
          "name": "stdout",
          "text": [
            "8\n",
            "7\n"
          ]
        }
      ]
    },
    {
      "cell_type": "markdown",
      "source": [
        "**4. All the longest in the list**\n",
        "\n",
        "Please write a function named all_the_longest, which takes a list of strings as its argument.\n",
        "The function should return a new list containing the longest string in the original list. If\n",
        "more than one are equally long, the function should return all of the longest strings.\n",
        "The order of the strings in the returned list should be the same as in the original.\n",
        "my_list = [\"first\", \"second\", \"fourth\", \"eleventh\"]\n",
        "result = all_the_longest(my_list)\n",
        "print(result) # ['eleventh']\n",
        "my_list = [\"adele\", \"mark\", \"dorothy\", \"tim\", \"hedy\", \"richard\"]\n",
        "result = all_the_longest(my_list)\n",
        "print(result) # ['dorothy', 'richard']"
      ],
      "metadata": {
        "id": "CH6LJIjNrWrj"
      }
    },
    {
      "cell_type": "code",
      "source": [
        "def all_the_longest(our_list):\n",
        "  longest = 0\n",
        "  new_list = []\n",
        "  for word in our_list:\n",
        "    if len(word) > longest:\n",
        "      longest = len(word)\n",
        "\n",
        "  for word in our_list:\n",
        "    if len(word) == longest:\n",
        "      new_list.append(word)\n",
        "  return new_list\n",
        "\n",
        "my_list = [\"first\", \"second\", \"fourth\", \"eleventh\"]\n",
        "result = all_the_longest(my_list)\n",
        "print(result)\n",
        "\n",
        "my_list = [\"adele\", \"mark\", \"dorothy\", \"tim\", \"hedy\", \"richard\"]\n",
        "result = all_the_longest(my_list)\n",
        "print(result)"
      ],
      "metadata": {
        "colab": {
          "base_uri": "https://localhost:8080/"
        },
        "id": "uWzaHET-rt_I",
        "outputId": "6bfe5178-6b6d-46c8-fad5-f4b663b6c27c"
      },
      "execution_count": null,
      "outputs": [
        {
          "output_type": "stream",
          "name": "stdout",
          "text": [
            "['eleventh']\n",
            "['dorothy', 'richard']\n"
          ]
        }
      ]
    },
    {
      "cell_type": "markdown",
      "source": [
        "**Same Word Twice**\n",
        "\n",
        "Please write a program which asks the user for words. If the user types in a word for the\n",
        "second time, the program should print out the number of different words typed in, and exit.\n",
        "Sample Output:\n",
        "Word: once\n",
        "Word: upon\n",
        "Word: a\n",
        "Word: time\n",
        "Word: upon\n",
        "You typed in 4 different words"
      ],
      "metadata": {
        "id": "NnZfIXk_rwiM"
      }
    },
    {
      "cell_type": "code",
      "source": [
        "words = []\n",
        "word = input(\"Word: \")\n",
        "\n",
        "while word not in words:\n",
        "  words.append(word)\n",
        "  word = input(\"Word: \")\n",
        "\n",
        "print(f\"\\nYou typed in {len(words)} different words\")"
      ],
      "metadata": {
        "colab": {
          "base_uri": "https://localhost:8080/"
        },
        "id": "jOM8aS7srwQQ",
        "outputId": "7e30c7c6-e4e4-410c-ee06-1fbb7136fdb5"
      },
      "execution_count": null,
      "outputs": [
        {
          "output_type": "stream",
          "name": "stdout",
          "text": [
            "Word: once\n",
            "Word: upon\n",
            "Word: a\n",
            "Word: time\n",
            "Word: upon\n",
            "\n",
            "You typed in 4 different words\n"
          ]
        }
      ]
    },
    {
      "cell_type": "code",
      "source": [
        "words = []\n",
        "while True:\n",
        "    word = input(\"Word: \")\n",
        "    if word in words:\n",
        "        break\n",
        "\n",
        "    words.append(word)\n",
        "\n",
        "print(f\"\\nYou typed in {len(words)} different words\")\n"
      ],
      "metadata": {
        "colab": {
          "base_uri": "https://localhost:8080/"
        },
        "id": "hk9iuQlmyaiR",
        "outputId": "33d65246-321e-4ab7-dec9-49590e68b9d6"
      },
      "execution_count": null,
      "outputs": [
        {
          "output_type": "stream",
          "name": "stdout",
          "text": [
            "Word: once\n",
            "Word: upon\n",
            "Word: a\n",
            "Word: time\n",
            "Word: upon\n",
            "\n",
            "You typed in 4 different words\n"
          ]
        }
      ]
    }
  ]
}