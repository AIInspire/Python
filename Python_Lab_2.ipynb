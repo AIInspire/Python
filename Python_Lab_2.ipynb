{
  "cells": [
    {
      "cell_type": "markdown",
      "metadata": {
        "id": "view-in-github",
        "colab_type": "text"
      },
      "source": [
        "<a href=\"https://colab.research.google.com/github/AIInspire/Python/blob/main/Python_Lab_2.ipynb\" target=\"_parent\"><img src=\"https://colab.research.google.com/assets/colab-badge.svg\" alt=\"Open In Colab\"/></a>"
      ]
    },
    {
      "cell_type": "markdown",
      "id": "15e4b153-5b2a-4a5b-9c40-e4b24aa9c02b",
      "metadata": {
        "id": "15e4b153-5b2a-4a5b-9c40-e4b24aa9c02b"
      },
      "source": [
        "### **1) Calculator**"
      ]
    },
    {
      "cell_type": "markdown",
      "id": "d0fc2ea3-00c5-449b-8332-702460970803",
      "metadata": {
        "id": "d0fc2ea3-00c5-449b-8332-702460970803"
      },
      "source": [
        "Please write a program which asks the user for two numbers and an operation. If the operation is add, multiply or subtract, the program should calculate and print out the result of the operation with the given numbers. If the user types in anything else, the program should print out nothing."
      ]
    },
    {
      "cell_type": "markdown",
      "id": "cecefa88-1737-4cec-b2a2-fcca81854602",
      "metadata": {
        "id": "cecefa88-1737-4cec-b2a2-fcca81854602"
      },
      "source": [
        "*Some examples of expected behaviour:*"
      ]
    },
    {
      "cell_type": "markdown",
      "id": "9be70e8f-4523-4d59-aaee-2d0261d4771a",
      "metadata": {
        "id": "9be70e8f-4523-4d59-aaee-2d0261d4771a"
      },
      "source": [
        "Number 1: 10<br>\n",
        "Number 2: 17<br>\n",
        "Operation: add<br>\n",
        "\n",
        "10 + 17 = 27"
      ]
    },
    {
      "cell_type": "markdown",
      "id": "7245b231-f948-4dc7-910e-7995ccc89099",
      "metadata": {
        "id": "7245b231-f948-4dc7-910e-7995ccc89099"
      },
      "source": [
        "Number 1: 4<br>\n",
        "Number 2: 6<br>\n",
        "Operation: multiply<br>\n",
        "\n",
        "4 * 6 = 24"
      ]
    },
    {
      "cell_type": "code",
      "execution_count": null,
      "id": "b8e8f162-fc2d-4fd8-b014-6051f375ccaf",
      "metadata": {
        "colab": {
          "base_uri": "https://localhost:8080/"
        },
        "id": "b8e8f162-fc2d-4fd8-b014-6051f375ccaf",
        "outputId": "f9c79e18-3ebb-4278-b3bc-e4fde597815d"
      },
      "outputs": [
        {
          "output_type": "stream",
          "name": "stdout",
          "text": [
            "Enter the 1st number: 10\n",
            "Enter the 2nd number: 17\n",
            "Enter the operator: add\n",
            "10 + 17 = 27\n"
          ]
        }
      ],
      "source": [
        "num1 = int(input(\"Enter the 1st number: \"))\n",
        "num2 = int(input(\"Enter the 2nd number: \"))\n",
        "\n",
        "operator = input(\"Enter the operator: \")\n",
        "\n",
        "if(operator == \"add\"):\n",
        "  result = num1 + num2\n",
        "  op = \"+\"\n",
        "\n",
        "elif(operator == \"subtract\"):\n",
        "  result = num1 - num2\n",
        "  op = \"-\"\n",
        "\n",
        "elif(operator == \"multiply\"):\n",
        "  result = num1 * num2\n",
        "  op =\"*\"\n",
        "\n",
        "print(f\"{num1} {op} {num2} = {result}\")"
      ]
    },
    {
      "cell_type": "code",
      "execution_count": null,
      "id": "4627da47-9a7d-44e7-8312-387af9b3b230",
      "metadata": {
        "colab": {
          "base_uri": "https://localhost:8080/"
        },
        "id": "4627da47-9a7d-44e7-8312-387af9b3b230",
        "outputId": "79d60f94-5112-4b37-86b6-7d6b799992b2"
      },
      "outputs": [
        {
          "output_type": "stream",
          "name": "stdout",
          "text": [
            "Enter the 1st number: 4\n",
            "Enter the 2nd number: 6\n",
            "Enter the operator: multiply\n",
            "4 * 6 = 24\n"
          ]
        }
      ],
      "source": [
        "num1 = int(input(\"Enter the 1st number: \"))\n",
        "num2 = int(input(\"Enter the 2nd number: \"))\n",
        "\n",
        "operator = input(\"Enter the operator: \")\n",
        "\n",
        "if(operator == \"add\"):\n",
        "  result = num1 + num2\n",
        "  op = \"+\"\n",
        "\n",
        "elif(operator == \"subtract\"):\n",
        "  result = num1 - num2\n",
        "  op = \"-\"\n",
        "\n",
        "elif(operator == \"multiply\"):\n",
        "  result = num1 * num2\n",
        "  op =\"*\"\n",
        "\n",
        "print(f\"{num1} {op} {num2} = {result}\")"
      ]
    },
    {
      "cell_type": "markdown",
      "id": "bc03ef23-204c-4293-9bc1-70b04017d049",
      "metadata": {
        "id": "bc03ef23-204c-4293-9bc1-70b04017d049"
      },
      "source": [
        "### **2) Daily wages**"
      ]
    },
    {
      "cell_type": "markdown",
      "id": "95bdbf66-8275-4171-9d88-9490a475d9d9",
      "metadata": {
        "id": "95bdbf66-8275-4171-9d88-9490a475d9d9"
      },
      "source": [
        "Please write a program which asks for the hourly wage, hours worked, and the day of the week. The program should then print out the daily wages, which equal hourly wage multiplied by hours worked, except on Sundays when the hourly wage is doubled."
      ]
    },
    {
      "cell_type": "markdown",
      "id": "8302ea63-9331-4910-9a3d-0e4c10925d8e",
      "metadata": {
        "id": "8302ea63-9331-4910-9a3d-0e4c10925d8e"
      },
      "source": [
        "Hourly wage: 8.5<br>\n",
        "Hours worked: 3<br>\n",
        "Day of the week: Monday<br>\n",
        "Daily wages: 25.5 euros<br>"
      ]
    },
    {
      "cell_type": "markdown",
      "id": "372a4954-6185-484c-a903-304afb033607",
      "metadata": {
        "id": "372a4954-6185-484c-a903-304afb033607"
      },
      "source": [
        "Hourly wage: 12.5<br>\n",
        "Hours worked: 10<br>\n",
        "Day of the week: Sunday<br>\n",
        "Daily wages: 250.0 euros<br>"
      ]
    },
    {
      "cell_type": "code",
      "execution_count": null,
      "id": "e9a857db-2e4b-4516-a228-e4702aeeb67b",
      "metadata": {
        "colab": {
          "base_uri": "https://localhost:8080/"
        },
        "id": "e9a857db-2e4b-4516-a228-e4702aeeb67b",
        "outputId": "e5b95eea-5097-4398-e9c8-b8509f3afa5d"
      },
      "outputs": [
        {
          "output_type": "stream",
          "name": "stdout",
          "text": [
            "Hourly Wage: 8.5\n",
            "Hours Worked: 3\n",
            "Day of the week: Monday\n",
            "Daily of wages: 25.5 euros\n"
          ]
        }
      ],
      "source": [
        "hourly_wage = float(input(\"Hourly Wage: \"))\n",
        "hours_worked = float(input(\"Hours Worked: \"))\n",
        "d_of_week = input(\"Day of the week: \")\n",
        "\n",
        "if(d_of_week == \"Sunday\"):\n",
        "  daily_wages = 2 * hourly_wage * hours_worked\n",
        "\n",
        "else:\n",
        "  daily_wages = hourly_wage * hours_worked\n",
        "\n",
        "print(f\"Daily of wages: {daily_wages} euros\")"
      ]
    },
    {
      "cell_type": "code",
      "execution_count": null,
      "id": "9fe32f36-94c3-4e93-849b-4dbd9f47d722",
      "metadata": {
        "colab": {
          "base_uri": "https://localhost:8080/"
        },
        "id": "9fe32f36-94c3-4e93-849b-4dbd9f47d722",
        "outputId": "ee937e87-01e2-4ade-8ee0-205e4a4f11b1"
      },
      "outputs": [
        {
          "output_type": "stream",
          "name": "stdout",
          "text": [
            "Hourly Wage: 12.5\n",
            "Hours Worked: 10\n",
            "Day of the week: Sunday\n",
            "Daily of wages: 250.0 euros\n"
          ]
        }
      ],
      "source": [
        "hourly_wage = float(input(\"Hourly Wage: \"))\n",
        "hours_worked = float(input(\"Hours Worked: \"))\n",
        "d_of_week = input(\"Day of the week: \")\n",
        "\n",
        "if(d_of_week == \"Sunday\"):\n",
        "  daily_wages = 2 * hourly_wage * hours_worked\n",
        "\n",
        "else:\n",
        "  daily_wages = hourly_wage * hours_worked\n",
        "\n",
        "print(f\"Daily of wages: {daily_wages} euros\")"
      ]
    },
    {
      "cell_type": "markdown",
      "id": "08c9cec2-2be8-46ec-bb3a-4f49f4af0c12",
      "metadata": {
        "id": "08c9cec2-2be8-46ec-bb3a-4f49f4af0c12"
      },
      "source": [
        "### **3) Loyalty bonus**"
      ]
    },
    {
      "cell_type": "markdown",
      "id": "e0fc7406-7d32-4001-b114-aab35433ae5a",
      "metadata": {
        "id": "e0fc7406-7d32-4001-b114-aab35433ae5a"
      },
      "source": [
        "This program calculates the end of year bonus a customer receives on their loyalty card. The bonus is calculated with the following formula:\n",
        "\n",
        "- If there are less than a hundred points on the card, the bonus is 10 %\n",
        "- In any other case the bonus is 15 %<br>\n",
        "The program should work like this:"
      ]
    },
    {
      "cell_type": "markdown",
      "id": "6759be84-9f2e-4242-b598-c52e620cb1cf",
      "metadata": {
        "id": "6759be84-9f2e-4242-b598-c52e620cb1cf"
      },
      "source": [
        "How many points are on your card? 55<br>\n",
        "Your bonus is 10 %<br>\n",
        "You now have 60.5 points"
      ]
    },
    {
      "cell_type": "markdown",
      "id": "06612d96-66ba-4bc6-b1a4-6e8bbfd01a52",
      "metadata": {
        "id": "06612d96-66ba-4bc6-b1a4-6e8bbfd01a52"
      },
      "source": [
        "**But there is a problem with the program**, so with some inputs it doesn't work quite right:"
      ]
    },
    {
      "cell_type": "markdown",
      "id": "93887f5c-a675-45f7-bfe5-8b6e214f837b",
      "metadata": {
        "id": "93887f5c-a675-45f7-bfe5-8b6e214f837b"
      },
      "source": [
        "How many points are on your card? 95<br>\n",
        "Your bonus is 10 %<br>\n",
        "Your bonus is 15 %<br>\n",
        "You now have 120.175 points"
      ]
    },
    {
      "cell_type": "markdown",
      "id": "323e340d-a81b-4540-8f51-7c4683ce8b13",
      "metadata": {
        "id": "323e340d-a81b-4540-8f51-7c4683ce8b13"
      },
      "source": [
        "Please fix the program so that there is always **either a 10 % or a 15 % bonus, but never both.**"
      ]
    },
    {
      "cell_type": "code",
      "source": [
        "# Fix the program\n",
        "points = int(input(\"How many points are on your card? \"))\n",
        "if points < 100:\n",
        "  bonus = 10\n",
        "\n",
        "if points >= 100:\n",
        "    bonus = 15\n",
        "\n",
        "print(f\"Your bonus is {str(bonus)} %\")\n",
        "points *= ((bonus/100)+1)\n",
        "\n",
        "print(\"You now have\", points, \"points\")"
      ],
      "metadata": {
        "colab": {
          "base_uri": "https://localhost:8080/"
        },
        "id": "BLLlvCSCET7n",
        "outputId": "1869f514-ecb2-4f07-ea02-9356a69e9777"
      },
      "id": "BLLlvCSCET7n",
      "execution_count": null,
      "outputs": [
        {
          "output_type": "stream",
          "name": "stdout",
          "text": [
            "How many points are on your card? 98\n",
            "Your bonus is 10 %\n",
            "You now have 107.80000000000001 points\n"
          ]
        }
      ]
    },
    {
      "cell_type": "code",
      "execution_count": null,
      "id": "ced5a069-07e2-4451-98fd-7cc4edd179b6",
      "metadata": {
        "colab": {
          "base_uri": "https://localhost:8080/"
        },
        "id": "ced5a069-07e2-4451-98fd-7cc4edd179b6",
        "outputId": "ef3312de-641c-48a1-d5dc-c6930a06d858"
      },
      "outputs": [
        {
          "output_type": "stream",
          "name": "stdout",
          "text": [
            "How many points are on your card? 95\n",
            "Your bonus is 10 %\n",
            "You now have 104.50000000000001 points\n"
          ]
        }
      ],
      "source": [
        "# Fix the program\n",
        "points = int(input(\"How many points are on your card? \"))\n",
        "if points < 100:\n",
        "  bonus = 10\n",
        "\n",
        "if points >= 100:\n",
        "    bonus = 15\n",
        "\n",
        "print(f\"Your bonus is {str(bonus)} %\")\n",
        "points *= ((bonus/100)+1)\n",
        "\n",
        "print(\"You now have\", points, \"points\")"
      ]
    },
    {
      "cell_type": "markdown",
      "id": "1205a16a-949a-45b0-b9e5-f153b34e8048",
      "metadata": {
        "id": "1205a16a-949a-45b0-b9e5-f153b34e8048"
      },
      "source": [
        "### **4) FizzBuzz**"
      ]
    },
    {
      "cell_type": "markdown",
      "id": "42180a80-c940-4226-84a5-ebaca2776be8",
      "metadata": {
        "id": "42180a80-c940-4226-84a5-ebaca2776be8"
      },
      "source": [
        "Please write a program which asks the user for an integer number. If the number is divisible by three, the program should print out Fizz. If the number is divisible by five, the program should print out Buzz. If the number is divisible by both three and five, the program should print out FizzBuzz."
      ]
    },
    {
      "cell_type": "markdown",
      "id": "17e484dd-a269-489f-9289-f884c5ed070c",
      "metadata": {
        "id": "17e484dd-a269-489f-9289-f884c5ed070c"
      },
      "source": [
        "*Some examples of expected behaviour:*"
      ]
    },
    {
      "cell_type": "markdown",
      "id": "f95e37e4-7da4-4eb7-a74d-be21592095f0",
      "metadata": {
        "id": "f95e37e4-7da4-4eb7-a74d-be21592095f0"
      },
      "source": [
        "Number: 9<br>\n",
        "Fizz"
      ]
    },
    {
      "cell_type": "markdown",
      "id": "0add8241-7465-4a8e-b4ba-1cdf0690e5b0",
      "metadata": {
        "id": "0add8241-7465-4a8e-b4ba-1cdf0690e5b0"
      },
      "source": [
        "Number: 20<br>\n",
        "Buzz"
      ]
    },
    {
      "cell_type": "markdown",
      "id": "758efaf4-8f56-4db7-abc1-006a5554ec10",
      "metadata": {
        "id": "758efaf4-8f56-4db7-abc1-006a5554ec10"
      },
      "source": [
        "Number: 7"
      ]
    },
    {
      "cell_type": "markdown",
      "id": "88eb2c3e-d947-4c70-bac6-29aca020eefe",
      "metadata": {
        "id": "88eb2c3e-d947-4c70-bac6-29aca020eefe"
      },
      "source": [
        "Number: 45<br/>\n",
        "FizzBuzz"
      ]
    },
    {
      "cell_type": "code",
      "execution_count": null,
      "id": "a7b32bab-2e9b-487e-9811-1ce6f9d9697e",
      "metadata": {
        "colab": {
          "base_uri": "https://localhost:8080/"
        },
        "id": "a7b32bab-2e9b-487e-9811-1ce6f9d9697e",
        "outputId": "b16c52c7-8caa-4922-a70c-907e653106e6"
      },
      "outputs": [
        {
          "output_type": "stream",
          "name": "stdout",
          "text": [
            "Enter an integer number: 9\n",
            "Fizz\n"
          ]
        }
      ],
      "source": [
        "num = int(input(\"Enter an integer number: \"))\n",
        "\n",
        "if((num % 3 == 0) and num % 5 == 0):\n",
        "  print(\"FizzBuzz\")\n",
        "\n",
        "elif(num % 3 == 0):\n",
        "  print(\"Fizz\")\n",
        "\n",
        "elif(num % 5 == 0):\n",
        "  print(\"Buzz\")"
      ]
    },
    {
      "cell_type": "code",
      "execution_count": null,
      "id": "4e5c5faa-2842-4ad4-babd-77246b7f3a5a",
      "metadata": {
        "colab": {
          "base_uri": "https://localhost:8080/"
        },
        "id": "4e5c5faa-2842-4ad4-babd-77246b7f3a5a",
        "outputId": "733d5035-2fa5-4a4a-e40b-47724f0ea55f"
      },
      "outputs": [
        {
          "output_type": "stream",
          "name": "stdout",
          "text": [
            "Enter an integer number: 20\n",
            "Buzz\n"
          ]
        }
      ],
      "source": [
        "num = int(input(\"Enter an integer number: \"))\n",
        "\n",
        "if((num % 3 == 0) and num % 5 == 0):\n",
        "  print(\"FizzBuzz\")\n",
        "\n",
        "elif(num % 3 == 0):\n",
        "  print(\"Fizz\")\n",
        "\n",
        "elif(num % 5 == 0):\n",
        "  print(\"Buzz\")"
      ]
    },
    {
      "cell_type": "code",
      "source": [
        "num = int(input(\"Enter an integer number: \"))\n",
        "\n",
        "if((num % 3 == 0) and num % 5 == 0):\n",
        "  print(\"FizzBuzz\")\n",
        "\n",
        "elif(num % 3 == 0):\n",
        "  print(\"Fizz\")\n",
        "\n",
        "elif(num % 5 == 0):\n",
        "  print(\"Buzz\")"
      ],
      "metadata": {
        "colab": {
          "base_uri": "https://localhost:8080/"
        },
        "id": "9Xs95HQCFi7E",
        "outputId": "e1fa8293-6969-4279-971c-bcb7f4e958dc"
      },
      "id": "9Xs95HQCFi7E",
      "execution_count": null,
      "outputs": [
        {
          "name": "stdout",
          "output_type": "stream",
          "text": [
            "Enter an integer number: 7\n"
          ]
        }
      ]
    },
    {
      "cell_type": "code",
      "source": [
        "num = int(input(\"Enter an integer number: \"))\n",
        "\n",
        "if((num % 3 == 0) and num % 5 == 0):\n",
        "  print(\"FizzBuzz\")\n",
        "\n",
        "elif(num % 3 == 0):\n",
        "  print(\"Fizz\")\n",
        "\n",
        "elif(num % 5 == 0):\n",
        "  print(\"Buzz\")"
      ],
      "metadata": {
        "colab": {
          "base_uri": "https://localhost:8080/"
        },
        "id": "EbZlMPx9Flk8",
        "outputId": "9eecac3c-a413-42b4-85ba-edd2f3a665dd"
      },
      "id": "EbZlMPx9Flk8",
      "execution_count": null,
      "outputs": [
        {
          "output_type": "stream",
          "name": "stdout",
          "text": [
            "Enter an integer number: 45\n",
            "FizzBuzz\n"
          ]
        }
      ]
    },
    {
      "cell_type": "markdown",
      "id": "f965199c-19e8-45f1-ae4f-7e863626a007",
      "metadata": {
        "id": "f965199c-19e8-45f1-ae4f-7e863626a007"
      },
      "source": [
        "### **5) PIN and number of attempts**"
      ]
    },
    {
      "cell_type": "markdown",
      "id": "a0916b54-9f22-4c5b-8d0b-b9070d95e43e",
      "metadata": {
        "id": "a0916b54-9f22-4c5b-8d0b-b9070d95e43e"
      },
      "source": [
        "Please write a program which keeps asking the user for a PIN code until they type in the correct one, which is 4321. The program should then print out the number of times the user tried different codes."
      ]
    },
    {
      "cell_type": "markdown",
      "id": "f05100d2-ffd4-49a6-9384-69aa5509fc9b",
      "metadata": {
        "id": "f05100d2-ffd4-49a6-9384-69aa5509fc9b"
      },
      "source": [
        "PIN: 3245<br>\n",
        "Wrong<br>\n",
        "PIN: 1234<br>\n",
        "Wrong<br>\n",
        "PIN: 0000<br>\n",
        "Wrong<br>\n",
        "PIN: 4321<br>\n",
        "Correct! It took you 4 attempts"
      ]
    },
    {
      "cell_type": "markdown",
      "id": "2dff330f-9847-4659-b373-84cfce86cf61",
      "metadata": {
        "id": "2dff330f-9847-4659-b373-84cfce86cf61"
      },
      "source": [
        "**If the user gets it right on the first try,** the program should print out something a bit different:"
      ]
    },
    {
      "cell_type": "markdown",
      "id": "1a742124-7b89-4dad-ae5d-9406c6970bbd",
      "metadata": {
        "id": "1a742124-7b89-4dad-ae5d-9406c6970bbd"
      },
      "source": [
        "PIN: 4321<br>\n",
        "Correct! It only took you one single attempt!"
      ]
    },
    {
      "cell_type": "code",
      "execution_count": null,
      "id": "942509fa-fea9-4947-92d1-bd5b85a49f72",
      "metadata": {
        "colab": {
          "base_uri": "https://localhost:8080/"
        },
        "id": "942509fa-fea9-4947-92d1-bd5b85a49f72",
        "outputId": "d0fd29b3-ec44-4fba-cf97-5abc31fbc046"
      },
      "outputs": [
        {
          "output_type": "stream",
          "name": "stdout",
          "text": [
            "PIN: 4321\n",
            "Correct! It only took you one single attempt!\n"
          ]
        }
      ],
      "source": [
        "pin = input(\"PIN: \")\n",
        "i = 0\n",
        "\n",
        "while (pin != '4321'):\n",
        "  pin = input(\"Worng. \\nPIN: \")\n",
        "  i+= 1\n",
        "\n",
        "if(i == 0):\n",
        "  print(\"Correct! It only took you one single attempt!\")\n",
        "\n",
        "else:\n",
        "  print(f\"Correct! It took you {i+1} attempts\")"
      ]
    },
    {
      "cell_type": "code",
      "execution_count": null,
      "id": "2b823642-c26a-48bd-84cd-f3a220b1cb38",
      "metadata": {
        "colab": {
          "base_uri": "https://localhost:8080/"
        },
        "id": "2b823642-c26a-48bd-84cd-f3a220b1cb38",
        "outputId": "cb7ad1e6-fedf-40c9-b0ce-4145b21aff65"
      },
      "outputs": [
        {
          "output_type": "stream",
          "name": "stdout",
          "text": [
            "PIN: 0000\n",
            "Worng. \n",
            "PIN: 1234\n",
            "Worng. \n",
            "PIN: 4321\n",
            "Correct! It took you 3 attempts\n"
          ]
        }
      ],
      "source": [
        "pin = input(\"PIN: \")\n",
        "i = 0\n",
        "\n",
        "while (pin != '4321'):\n",
        "  pin = input(\"Worng. \\nPIN: \")\n",
        "  i+= 1\n",
        "\n",
        "if(i == 0):\n",
        "  print(\"Correct! It only took you one single attempt!\")\n",
        "\n",
        "else:\n",
        "  print(f\"Correct! It took you {i+1} attempts\")"
      ]
    },
    {
      "cell_type": "markdown",
      "id": "b790eacd-8065-4103-969d-c00d828b8405",
      "metadata": {
        "id": "b790eacd-8065-4103-969d-c00d828b8405"
      },
      "source": [
        "### **6) Display numbers from -10 to -1**"
      ]
    },
    {
      "cell_type": "markdown",
      "id": "e25fe802-d34c-47bb-844c-a228e50e432f",
      "metadata": {
        "id": "e25fe802-d34c-47bb-844c-a228e50e432f"
      },
      "source": [
        "-10<br>\n",
        "-9<br>\n",
        "-8<br>\n",
        "-7<br>\n",
        "-6<br>\n",
        "-5<br>\n",
        "-4<br>\n",
        "-3<br>\n",
        "-2<br>\n",
        "-1<br>"
      ]
    },
    {
      "cell_type": "code",
      "source": [
        "for num in range(-10, 0, 1):\n",
        "  print(num)"
      ],
      "metadata": {
        "colab": {
          "base_uri": "https://localhost:8080/"
        },
        "id": "mLlY0QNXJUK5",
        "outputId": "92b47cff-8445-47d2-aead-5dc1abda2da4"
      },
      "id": "mLlY0QNXJUK5",
      "execution_count": null,
      "outputs": [
        {
          "output_type": "stream",
          "name": "stdout",
          "text": [
            "-10\n",
            "-9\n",
            "-8\n",
            "-7\n",
            "-6\n",
            "-5\n",
            "-4\n",
            "-3\n",
            "-2\n",
            "-1\n"
          ]
        }
      ]
    },
    {
      "cell_type": "markdown",
      "id": "60345ad0-3f6b-41d0-8ec9-0dc79330b368",
      "metadata": {
        "id": "60345ad0-3f6b-41d0-8ec9-0dc79330b368"
      },
      "source": [
        "### **7) Bonus: Reverse integer number**"
      ]
    },
    {
      "cell_type": "markdown",
      "id": "22908030-3447-4b07-a631-953406915839",
      "metadata": {
        "id": "22908030-3447-4b07-a631-953406915839"
      },
      "source": [
        "Given:<br>\n",
        "\n",
        "76542<br>\n",
        "\n",
        "Expected output:<br>\n",
        "\n",
        "24567<br>"
      ]
    },
    {
      "cell_type": "code",
      "source": [
        "num = input(\"Enter a number: \")\n",
        "new_num = \"\"\n",
        "length = len(num)\n",
        "\n",
        "for i in range(length-1, -1, -1):\n",
        "  new_num += num[i]\n",
        "\n",
        "print(new_num)\n"
      ],
      "metadata": {
        "colab": {
          "base_uri": "https://localhost:8080/"
        },
        "id": "_dFFCLlFTgxa",
        "outputId": "0a8bf9c2-b799-4dbc-f009-c47dcdaf083b"
      },
      "id": "_dFFCLlFTgxa",
      "execution_count": null,
      "outputs": [
        {
          "output_type": "stream",
          "name": "stdout",
          "text": [
            "Enter a number: 76542\n",
            "24567\n"
          ]
        }
      ]
    },
    {
      "cell_type": "code",
      "source": [
        "num = int(input(\"Enter a number: \"))\n",
        "reversed_num = 0\n",
        "\n",
        "while num != 0:\n",
        "    rem = num % 10\n",
        "    reversed_num = reversed_num * 10 + rem\n",
        "    num //= 10\n",
        "\n",
        "print(\"Reversed Number: \" + str(reversed_num))"
      ],
      "metadata": {
        "colab": {
          "base_uri": "https://localhost:8080/"
        },
        "id": "y21f0BeZdldU",
        "outputId": "e5af9f7b-6df1-4963-caee-4b3b96bce1ee"
      },
      "id": "y21f0BeZdldU",
      "execution_count": null,
      "outputs": [
        {
          "output_type": "stream",
          "name": "stdout",
          "text": [
            "Enter a number: 76542\n",
            "Reversed Number: 24567\n"
          ]
        }
      ]
    },
    {
      "cell_type": "markdown",
      "source": [
        "# **Python Lab (3)**"
      ],
      "metadata": {
        "id": "pxbFXBCMLg5Y"
      },
      "id": "pxbFXBCMLg5Y"
    },
    {
      "cell_type": "markdown",
      "source": [
        "# write a function named triangle\n",
        "Please write a function named triangle, which draws a triangle of\n",
        "hashes, and takes one argument. The triangle should be as tall and\n",
        "as wide as the value of the argument.\n",
        "Some examples:\n",
        "triangle(6)\n",
        "triangle(3)\n",
        "#\n",
        "##\n",
        "###\n",
        "####\n",
        "#####\n",
        "######\n",
        "#\n",
        "##\n",
        "###\n"
      ],
      "metadata": {
        "id": "o1ULx1tPLsD8"
      },
      "id": "o1ULx1tPLsD8"
    },
    {
      "cell_type": "code",
      "source": [
        "def triangle(num):\n",
        "  for n in range(1, num+1):\n",
        "    print(n*\"#\")\n",
        "\n",
        "\n",
        "triangle(6)"
      ],
      "metadata": {
        "colab": {
          "base_uri": "https://localhost:8080/"
        },
        "id": "OIltsOZVLgau",
        "outputId": "c0749818-fe63-4a9f-cfdf-82bf235ab467"
      },
      "id": "OIltsOZVLgau",
      "execution_count": null,
      "outputs": [
        {
          "output_type": "stream",
          "name": "stdout",
          "text": [
            "#\n",
            "##\n",
            "###\n",
            "####\n",
            "#####\n",
            "######\n"
          ]
        }
      ]
    },
    {
      "cell_type": "code",
      "execution_count": null,
      "id": "83e15c8d-3c64-44b6-a4d9-ce82aaa0f4bd",
      "metadata": {
        "colab": {
          "base_uri": "https://localhost:8080/"
        },
        "id": "83e15c8d-3c64-44b6-a4d9-ce82aaa0f4bd",
        "outputId": "08cc88c7-4ea4-4231-b34c-07fd24746d67"
      },
      "outputs": [
        {
          "output_type": "stream",
          "name": "stdout",
          "text": [
            "#\n",
            "##\n",
            "###\n"
          ]
        }
      ],
      "source": [
        "triangle(3)"
      ]
    },
    {
      "cell_type": "markdown",
      "source": [
        "# 2. a function named greatest_number\n",
        "Please write a function named greatest_number, which takes three\n",
        "arguments. The function returns the greatest in value of the three.\n",
        "[without using max function, and solve it in two ways]\n",
        "print(greatest_number(3, 4, 1)) # 4\n",
        "print(greatest_number(99, -4, 7)) # 99\n",
        "print(greatest_number(0, 0, 0)) # 0"
      ],
      "metadata": {
        "id": "da9pGEMMMvzj"
      },
      "id": "da9pGEMMMvzj"
    },
    {
      "cell_type": "code",
      "source": [
        "def greatest_number(num1, num2, num3):\n",
        "  max = num1\n",
        "  if(num2 > max):\n",
        "    max = num2\n",
        "\n",
        "  if(num3 > max):\n",
        "    max = num3\n",
        "  print(max)\n",
        "\n",
        "greatest_number(3, 4, 1)\n",
        "greatest_number(99, -4, 7)\n",
        "greatest_number(0, 0, 0)"
      ],
      "metadata": {
        "colab": {
          "base_uri": "https://localhost:8080/"
        },
        "id": "V8X2WYU-MvUy",
        "outputId": "c6d85757-e366-46ec-fe63-d37ab1c31908"
      },
      "id": "V8X2WYU-MvUy",
      "execution_count": null,
      "outputs": [
        {
          "output_type": "stream",
          "name": "stdout",
          "text": [
            "4\n",
            "99\n",
            "0\n"
          ]
        }
      ]
    },
    {
      "cell_type": "code",
      "source": [
        "def greatest_number(num1, num2, num3):\n",
        "  if ((num1 >= num2) and (num1 >= num3)):\n",
        "    print(num1)\n",
        "  elif num2 >= num1 and num2 >= num3:\n",
        "    print(num2)\n",
        "  elif num3 >= num1 and num3 >= num2:\n",
        "    print(num3)\n",
        "\n",
        "greatest_number(3, 4, 1)\n",
        "greatest_number(99, -4, 7)\n",
        "greatest_number(0, 0, 0)"
      ],
      "metadata": {
        "colab": {
          "base_uri": "https://localhost:8080/"
        },
        "id": "ofgzXHHPxYjH",
        "outputId": "93ef39af-ba47-4bce-82a7-4f45db09ccb9"
      },
      "id": "ofgzXHHPxYjH",
      "execution_count": null,
      "outputs": [
        {
          "output_type": "stream",
          "name": "stdout",
          "text": [
            "4\n",
            "99\n",
            "0\n"
          ]
        }
      ]
    },
    {
      "cell_type": "markdown",
      "source": [
        "# 3. a function sum_series(n)\n",
        "series:\n",
        "1 - 2 + 3 - 4 + 5 - ... up to n\n",
        "Write a function sum_series(n) that calculates the sum of the\n",
        "series:\n",
        "1 - 2 + 3 - 4 + 5 - ... up to n"
      ],
      "metadata": {
        "id": "AGHvZeqIM2sd"
      },
      "id": "AGHvZeqIM2sd"
    },
    {
      "cell_type": "code",
      "source": [
        "def sum_series(n):\n",
        "  sum = 0\n",
        "  for num in range(1, n+1):\n",
        "    if(num % 2 == 0):\n",
        "      sum -= num\n",
        "    else:\n",
        "      sum += num\n",
        "  print(sum)\n",
        "\n",
        "sum = sum_series(5)"
      ],
      "metadata": {
        "colab": {
          "base_uri": "https://localhost:8080/"
        },
        "id": "4L7W_SiMM2bO",
        "outputId": "0e361c3a-c854-407f-ed15-e5cb923dceb4"
      },
      "id": "4L7W_SiMM2bO",
      "execution_count": null,
      "outputs": [
        {
          "output_type": "stream",
          "name": "stdout",
          "text": [
            "3\n"
          ]
        }
      ]
    },
    {
      "cell_type": "markdown",
      "source": [
        "# 4.  calculate the factorial of a number\n",
        "Write a Python function to calculate the factorial of a number (a\n",
        "non-negative integer). The function accepts the number as an\n",
        "argument.\n"
      ],
      "metadata": {
        "id": "8avOrwoeRIxL"
      },
      "id": "8avOrwoeRIxL"
    },
    {
      "cell_type": "code",
      "source": [
        "def factorial(n):\n",
        "  if(n == 0):\n",
        "    return 1\n",
        "  else:\n",
        "    return n * factorial(n-1)\n",
        "\n",
        "factorial(3)"
      ],
      "metadata": {
        "colab": {
          "base_uri": "https://localhost:8080/"
        },
        "id": "8Kk2ERa-RXlY",
        "outputId": "88eae60f-a5c4-4c21-8f78-3eacb43128a2"
      },
      "id": "8Kk2ERa-RXlY",
      "execution_count": null,
      "outputs": [
        {
          "output_type": "execute_result",
          "data": {
            "text/plain": [
              "6"
            ]
          },
          "metadata": {},
          "execution_count": 74
        }
      ]
    },
    {
      "cell_type": "markdown",
      "source": [
        "# 5. a palindrome\n",
        "Implement a function that checks if a given word is a palindrome\n",
        "(reads the same forwards and backwards)"
      ],
      "metadata": {
        "id": "ab-gpDeSSNBg"
      },
      "id": "ab-gpDeSSNBg"
    },
    {
      "cell_type": "code",
      "source": [
        "def palindrome(word):\n",
        "  rev_word = \"\"\n",
        "\n",
        "  for l in word:\n",
        "    rev_word += l\n",
        "\n",
        "  return rev_word\n",
        "\n",
        "palindrome(\"uhkjj\")"
      ],
      "metadata": {
        "colab": {
          "base_uri": "https://localhost:8080/",
          "height": 36
        },
        "id": "Hd-5MrKfSItu",
        "outputId": "d0904426-3d7c-438e-d8e2-7d839118bd19"
      },
      "id": "Hd-5MrKfSItu",
      "execution_count": null,
      "outputs": [
        {
          "output_type": "execute_result",
          "data": {
            "text/plain": [
              "'uhkjj'"
            ],
            "application/vnd.google.colaboratory.intrinsic+json": {
              "type": "string"
            }
          },
          "metadata": {},
          "execution_count": 103
        }
      ]
    }
  ],
  "metadata": {
    "kernelspec": {
      "display_name": "Python 3 (ipykernel)",
      "language": "python",
      "name": "python3"
    },
    "language_info": {
      "codemirror_mode": {
        "name": "ipython",
        "version": 3
      },
      "file_extension": ".py",
      "mimetype": "text/x-python",
      "name": "python",
      "nbconvert_exporter": "python",
      "pygments_lexer": "ipython3",
      "version": "3.12.7"
    },
    "colab": {
      "provenance": [],
      "include_colab_link": true
    }
  },
  "nbformat": 4,
  "nbformat_minor": 5
}