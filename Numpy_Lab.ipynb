{
  "nbformat": 4,
  "nbformat_minor": 0,
  "metadata": {
    "colab": {
      "provenance": [],
      "authorship_tag": "ABX9TyN+Ouv+0DNwMg1I+b7m5Rxl",
      "include_colab_link": true
    },
    "kernelspec": {
      "name": "python3",
      "display_name": "Python 3"
    },
    "language_info": {
      "name": "python"
    }
  },
  "cells": [
    {
      "cell_type": "markdown",
      "metadata": {
        "id": "view-in-github",
        "colab_type": "text"
      },
      "source": [
        "<a href=\"https://colab.research.google.com/github/AIInspire/Python/blob/main/Numpy_Lab.ipynb\" target=\"_parent\"><img src=\"https://colab.research.google.com/assets/colab-badge.svg\" alt=\"Open In Colab\"/></a>"
      ]
    },
    {
      "cell_type": "markdown",
      "source": [
        "# 1. Write a NumPy program to create an array of 10 zeros, array of 10 ones, and array of 10 fives."
      ],
      "metadata": {
        "id": "Qny6a6eGF_bI"
      }
    },
    {
      "cell_type": "code",
      "source": [
        "import numpy as np\n",
        "\n",
        "zeros_array = np.zeros(10)\n",
        "zeros_array"
      ],
      "metadata": {
        "colab": {
          "base_uri": "https://localhost:8080/"
        },
        "id": "OvaEETt7F-Mc",
        "outputId": "ab68ebf6-056a-4007-b4af-a751f4b200aa"
      },
      "execution_count": null,
      "outputs": [
        {
          "output_type": "execute_result",
          "data": {
            "text/plain": [
              "array([0., 0., 0., 0., 0., 0., 0., 0., 0., 0.])"
            ]
          },
          "metadata": {},
          "execution_count": 38
        }
      ]
    },
    {
      "cell_type": "code",
      "execution_count": null,
      "metadata": {
        "colab": {
          "base_uri": "https://localhost:8080/"
        },
        "id": "4cXNfhjlFbxk",
        "outputId": "c1cd9a27-c2a1-42ef-b941-f8785c57146f"
      },
      "outputs": [
        {
          "output_type": "execute_result",
          "data": {
            "text/plain": [
              "array([1., 1., 1., 1., 1., 1., 1., 1., 1., 1.])"
            ]
          },
          "metadata": {},
          "execution_count": 39
        }
      ],
      "source": [
        "ones_array = np.ones(10)\n",
        "ones_array"
      ]
    },
    {
      "cell_type": "code",
      "source": [
        "fives_array = np.full(10, 5)\n",
        "fives_array"
      ],
      "metadata": {
        "id": "c2mpSLNZGndM",
        "colab": {
          "base_uri": "https://localhost:8080/"
        },
        "outputId": "b61e6f0e-9d5f-4066-f3de-c06830e94923"
      },
      "execution_count": null,
      "outputs": [
        {
          "output_type": "execute_result",
          "data": {
            "text/plain": [
              "array([5, 5, 5, 5, 5, 5, 5, 5, 5, 5])"
            ]
          },
          "metadata": {},
          "execution_count": 40
        }
      ]
    },
    {
      "cell_type": "markdown",
      "source": [
        "# 2. Write a NumPy program to create an array of all even integers from 30 to 70."
      ],
      "metadata": {
        "id": "fZlou0s1IOC9"
      }
    },
    {
      "cell_type": "code",
      "source": [
        "even_integers = np.arange(30, 71, 2)\n",
        "even_integers"
      ],
      "metadata": {
        "colab": {
          "base_uri": "https://localhost:8080/"
        },
        "id": "H_5kuxSpINva",
        "outputId": "f8fb7ee1-bd4e-4f1a-f380-ebb339be1866"
      },
      "execution_count": null,
      "outputs": [
        {
          "output_type": "execute_result",
          "data": {
            "text/plain": [
              "array([30, 32, 34, 36, 38, 40, 42, 44, 46, 48, 50, 52, 54, 56, 58, 60, 62,\n",
              "       64, 66, 68, 70])"
            ]
          },
          "metadata": {},
          "execution_count": 41
        }
      ]
    },
    {
      "cell_type": "markdown",
      "source": [
        "# 3. Write a NumPy program to create an array of given shape (5,6) and integer type, filled with zeros."
      ],
      "metadata": {
        "id": "tkUQ0mPFIlUj"
      }
    },
    {
      "cell_type": "code",
      "source": [
        "int_array = np.zeros((5, 6), dtype=int)\n",
        "int_array"
      ],
      "metadata": {
        "colab": {
          "base_uri": "https://localhost:8080/"
        },
        "id": "ws_dFLvfH5w6",
        "outputId": "16a35ab7-bfaa-4f48-e0c6-7b6d56cee984"
      },
      "execution_count": null,
      "outputs": [
        {
          "output_type": "execute_result",
          "data": {
            "text/plain": [
              "array([[0, 0, 0, 0, 0, 0],\n",
              "       [0, 0, 0, 0, 0, 0],\n",
              "       [0, 0, 0, 0, 0, 0],\n",
              "       [0, 0, 0, 0, 0, 0],\n",
              "       [0, 0, 0, 0, 0, 0]])"
            ]
          },
          "metadata": {},
          "execution_count": 42
        }
      ]
    },
    {
      "cell_type": "markdown",
      "source": [
        "# 4. Create a 10x10 array with random values and find the minimum and maximum values."
      ],
      "metadata": {
        "id": "mkzV1QqqJDVk"
      }
    },
    {
      "cell_type": "code",
      "source": [
        "random_array = np.random.random((10, 10))\n",
        "random_array"
      ],
      "metadata": {
        "colab": {
          "base_uri": "https://localhost:8080/"
        },
        "id": "dREFxvtcI8XX",
        "outputId": "fa7f493b-9472-4dfd-9446-9e618c2729a7"
      },
      "execution_count": null,
      "outputs": [
        {
          "output_type": "execute_result",
          "data": {
            "text/plain": [
              "array([[0.95002883, 0.79528728, 0.13276118, 0.48126839, 0.77903682,\n",
              "        0.97211131, 0.87677207, 0.49914151, 0.08536006, 0.13006426],\n",
              "       [0.27645376, 0.99547877, 0.88662564, 0.96365148, 0.23618722,\n",
              "        0.9232274 , 0.15056808, 0.62475816, 0.15721172, 0.49484406],\n",
              "       [0.18388859, 0.94123084, 0.30935058, 0.4177906 , 0.55704087,\n",
              "        0.13189949, 0.91825816, 0.35548356, 0.16559927, 0.09260732],\n",
              "       [0.01510768, 0.31728803, 0.17849367, 0.97486491, 0.52066604,\n",
              "        0.03878839, 0.69999307, 0.05835699, 0.36738069, 0.77000618],\n",
              "       [0.18287758, 0.55017837, 0.85755631, 0.54377901, 0.25150992,\n",
              "        0.206237  , 0.65401012, 0.15270091, 0.8709305 , 0.59470507],\n",
              "       [0.20656049, 0.906428  , 0.22101894, 0.39355285, 0.88148963,\n",
              "        0.69288806, 0.0482872 , 0.5318637 , 0.49490611, 0.45617259],\n",
              "       [0.47638971, 0.05732599, 0.22539331, 0.20143114, 0.66700255,\n",
              "        0.08929707, 0.07896255, 0.77013203, 0.78187516, 0.3299895 ],\n",
              "       [0.58889848, 0.36567942, 0.33891687, 0.44410655, 0.22851134,\n",
              "        0.49118321, 0.0811106 , 0.48093922, 0.14756334, 0.10649684],\n",
              "       [0.31661658, 0.34238946, 0.03582975, 0.36671979, 0.42669828,\n",
              "        0.41751166, 0.32072208, 0.52892938, 0.0689303 , 0.51640111],\n",
              "       [0.35935399, 0.53443984, 0.67660576, 0.3260177 , 0.26542179,\n",
              "        0.85037715, 0.84271055, 0.86895663, 0.83960022, 0.94008063]])"
            ]
          },
          "metadata": {},
          "execution_count": 43
        }
      ]
    },
    {
      "cell_type": "code",
      "source": [
        "random_array.min()"
      ],
      "metadata": {
        "colab": {
          "base_uri": "https://localhost:8080/"
        },
        "id": "f_lgEAcgKDwy",
        "outputId": "6c7d0222-bd9a-4d88-e33d-9cd2d4e5b0ae"
      },
      "execution_count": null,
      "outputs": [
        {
          "output_type": "execute_result",
          "data": {
            "text/plain": [
              "0.015107680305715077"
            ]
          },
          "metadata": {},
          "execution_count": 44
        }
      ]
    },
    {
      "cell_type": "code",
      "source": [
        "random_array.max()"
      ],
      "metadata": {
        "colab": {
          "base_uri": "https://localhost:8080/"
        },
        "id": "xlaUyW7GKF_q",
        "outputId": "7ebcb89b-910c-47d1-e4a1-57b2e471c349"
      },
      "execution_count": null,
      "outputs": [
        {
          "output_type": "execute_result",
          "data": {
            "text/plain": [
              "0.9954787660423703"
            ]
          },
          "metadata": {},
          "execution_count": 46
        }
      ]
    },
    {
      "cell_type": "markdown",
      "source": [
        "# 5. Write a NumPy program to create a 3x3 array with values ranging from 2 to 10."
      ],
      "metadata": {
        "id": "8Nrz75qzKW04"
      }
    },
    {
      "cell_type": "code",
      "source": [
        "array = np.arange(2, 11).reshape(3, 3)\n",
        "array"
      ],
      "metadata": {
        "colab": {
          "base_uri": "https://localhost:8080/"
        },
        "id": "1X6TSs-QKVZ7",
        "outputId": "eb2d3395-c46a-4da1-cb88-74c36266e72b"
      },
      "execution_count": null,
      "outputs": [
        {
          "output_type": "execute_result",
          "data": {
            "text/plain": [
              "array([[ 2,  3,  4],\n",
              "       [ 5,  6,  7],\n",
              "       [ 8,  9, 10]])"
            ]
          },
          "metadata": {},
          "execution_count": 47
        }
      ]
    },
    {
      "cell_type": "markdown",
      "source": [
        "# 6. Write a NumPy program to create an array of size = 20 using arrange, then extract all numbers from a given array greater than 15."
      ],
      "metadata": {
        "id": "gpE0-ksmLQHV"
      }
    },
    {
      "cell_type": "code",
      "source": [
        "array = np.arange(20)\n",
        "array"
      ],
      "metadata": {
        "colab": {
          "base_uri": "https://localhost:8080/"
        },
        "id": "1aLUcEbiMGDk",
        "outputId": "704b1478-656d-4848-9b61-315e5afccadf"
      },
      "execution_count": null,
      "outputs": [
        {
          "output_type": "execute_result",
          "data": {
            "text/plain": [
              "array([ 0,  1,  2,  3,  4,  5,  6,  7,  8,  9, 10, 11, 12, 13, 14, 15, 16,\n",
              "       17, 18, 19])"
            ]
          },
          "metadata": {},
          "execution_count": 48
        }
      ]
    },
    {
      "cell_type": "code",
      "source": [
        "greater_than_15 = array[array > 15]\n",
        "greater_than_15"
      ],
      "metadata": {
        "colab": {
          "base_uri": "https://localhost:8080/"
        },
        "id": "B8er85WZLKHs",
        "outputId": "416c1649-aded-4c77-a7c5-c1c1eeb11be4"
      },
      "execution_count": null,
      "outputs": [
        {
          "output_type": "execute_result",
          "data": {
            "text/plain": [
              "array([16, 17, 18, 19])"
            ]
          },
          "metadata": {},
          "execution_count": 49
        }
      ]
    },
    {
      "cell_type": "markdown",
      "source": [
        "# 7. Write a NumPy program to combine the two 2-dimensional arrays using\n",
        "hstack and vstack.\n",
        "Array 1: [[0, 1, 3], [5, 7, 9]]\n",
        "Array 2: [[0, 2, 4], [6, 8, 10]]"
      ],
      "metadata": {
        "id": "F8kQ9gQlNU7X"
      }
    },
    {
      "cell_type": "code",
      "source": [
        "array_1 = np.array([[0, 1, 3], [5, 7, 9]])\n",
        "array_2 = np.array([[0, 2, 4], [6, 8, 10]])"
      ],
      "metadata": {
        "id": "XLwMwrKrNUMs"
      },
      "execution_count": null,
      "outputs": []
    },
    {
      "cell_type": "code",
      "source": [
        "np.vstack((array_1, array_2))"
      ],
      "metadata": {
        "colab": {
          "base_uri": "https://localhost:8080/"
        },
        "id": "nyyTjsSJNS_t",
        "outputId": "2a5d7b9f-6916-41fe-ab1d-b7b9c60bffb7"
      },
      "execution_count": null,
      "outputs": [
        {
          "output_type": "execute_result",
          "data": {
            "text/plain": [
              "array([[ 0,  1,  3],\n",
              "       [ 5,  7,  9],\n",
              "       [ 0,  2,  4],\n",
              "       [ 6,  8, 10]])"
            ]
          },
          "metadata": {},
          "execution_count": 51
        }
      ]
    },
    {
      "cell_type": "code",
      "source": [
        "np.hstack((array_1, array_2))"
      ],
      "metadata": {
        "colab": {
          "base_uri": "https://localhost:8080/"
        },
        "id": "MbVb9TzEbMvQ",
        "outputId": "8120d4eb-33de-498e-f37c-f85502429136"
      },
      "execution_count": null,
      "outputs": [
        {
          "output_type": "execute_result",
          "data": {
            "text/plain": [
              "array([[ 0,  1,  3,  0,  2,  4],\n",
              "       [ 5,  7,  9,  6,  8, 10]])"
            ]
          },
          "metadata": {},
          "execution_count": 52
        }
      ]
    },
    {
      "cell_type": "markdown",
      "source": [
        "# 8. Write a NumPy program to create ones array of size 10 and change the 6th element to 11."
      ],
      "metadata": {
        "id": "__48JgjkbVVL"
      }
    },
    {
      "cell_type": "code",
      "source": [
        "ones_array = np.ones(10)\n",
        "ones_array"
      ],
      "metadata": {
        "colab": {
          "base_uri": "https://localhost:8080/"
        },
        "id": "4GWTSvUwbVCP",
        "outputId": "0869a56a-10bf-4474-baed-c8ef6d011c7f"
      },
      "execution_count": null,
      "outputs": [
        {
          "output_type": "execute_result",
          "data": {
            "text/plain": [
              "array([1., 1., 1., 1., 1., 1., 1., 1., 1., 1.])"
            ]
          },
          "metadata": {},
          "execution_count": 53
        }
      ]
    },
    {
      "cell_type": "code",
      "source": [
        "ones_array[5] = 11\n",
        "ones_array"
      ],
      "metadata": {
        "colab": {
          "base_uri": "https://localhost:8080/"
        },
        "id": "Elfkqd9Ebon4",
        "outputId": "ea872ad5-cabc-43ed-da9d-01831b556751"
      },
      "execution_count": null,
      "outputs": [
        {
          "output_type": "execute_result",
          "data": {
            "text/plain": [
              "array([ 1.,  1.,  1.,  1.,  1., 11.,  1.,  1.,  1.,  1.])"
            ]
          },
          "metadata": {},
          "execution_count": 54
        }
      ]
    },
    {
      "cell_type": "markdown",
      "source": [
        "# 9. Write a NumPy program to append a value to the end of an array."
      ],
      "metadata": {
        "id": "uEmoHAAKbzRG"
      }
    },
    {
      "cell_type": "code",
      "source": [
        "array = np.arange(0, 6)\n",
        "array"
      ],
      "metadata": {
        "colab": {
          "base_uri": "https://localhost:8080/"
        },
        "id": "jNWKZYCKb5R-",
        "outputId": "9ff3c4d5-146d-4327-e804-3d3a1e040443"
      },
      "execution_count": null,
      "outputs": [
        {
          "output_type": "execute_result",
          "data": {
            "text/plain": [
              "array([0, 1, 2, 3, 4, 5])"
            ]
          },
          "metadata": {},
          "execution_count": 55
        }
      ]
    },
    {
      "cell_type": "code",
      "source": [
        "array = np.append(array, 10)\n",
        "array"
      ],
      "metadata": {
        "colab": {
          "base_uri": "https://localhost:8080/"
        },
        "id": "TUZlj93acG45",
        "outputId": "91182b94-5282-4b6e-c717-eb6de1008cef"
      },
      "execution_count": null,
      "outputs": [
        {
          "output_type": "execute_result",
          "data": {
            "text/plain": [
              "array([ 0,  1,  2,  3,  4,  5, 10])"
            ]
          },
          "metadata": {},
          "execution_count": 56
        }
      ]
    },
    {
      "cell_type": "markdown",
      "source": [
        "# 10. Write a NumPy program to reverse an array [using two different methods)."
      ],
      "metadata": {
        "id": "2yVb5yIVcgHb"
      }
    },
    {
      "cell_type": "code",
      "source": [
        "array = np.arange(0, 6)\n",
        "\n",
        "rev_array_1 = array[::-1]\n",
        "rev_array_1"
      ],
      "metadata": {
        "colab": {
          "base_uri": "https://localhost:8080/"
        },
        "id": "NafSTiK7clUG",
        "outputId": "59a28c35-d433-4a3c-91be-81bf38ef4ae0"
      },
      "execution_count": null,
      "outputs": [
        {
          "output_type": "execute_result",
          "data": {
            "text/plain": [
              "array([5, 4, 3, 2, 1, 0])"
            ]
          },
          "metadata": {},
          "execution_count": 57
        }
      ]
    },
    {
      "cell_type": "code",
      "source": [
        "array = np.arange(0, 6)\n",
        "\n",
        "rev_array_2 = array[np.arange(len(array) - 1, -1, -1)]\n",
        "rev_array_2"
      ],
      "metadata": {
        "colab": {
          "base_uri": "https://localhost:8080/"
        },
        "id": "K2Acok6HdVni",
        "outputId": "3a514e86-095f-4131-dd42-8ccf27875582"
      },
      "execution_count": null,
      "outputs": [
        {
          "output_type": "execute_result",
          "data": {
            "text/plain": [
              "array([5, 4, 3, 2, 1, 0])"
            ]
          },
          "metadata": {},
          "execution_count": 58
        }
      ]
    }
  ]
}