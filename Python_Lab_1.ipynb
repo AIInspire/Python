{
  "nbformat": 4,
  "nbformat_minor": 0,
  "metadata": {
    "colab": {
      "provenance": [],
      "authorship_tag": "ABX9TyNhZjHWIYUR+ZbRQAZ3Das/",
      "include_colab_link": true
    },
    "kernelspec": {
      "name": "python3",
      "display_name": "Python 3"
    },
    "language_info": {
      "name": "python"
    }
  },
  "cells": [
    {
      "cell_type": "markdown",
      "metadata": {
        "id": "view-in-github",
        "colab_type": "text"
      },
      "source": [
        "<a href=\"https://colab.research.google.com/github/AIInspire/Python/blob/main/Python_lab_1.ipynb\" target=\"_parent\"><img src=\"https://colab.research.google.com/assets/colab-badge.svg\" alt=\"Open In Colab\"/></a>"
      ]
    },
    {
      "cell_type": "markdown",
      "source": [
        "# 1. Assign a message to a variable, and then print that message"
      ],
      "metadata": {
        "id": "lEUPsXvMWq5x"
      }
    },
    {
      "cell_type": "code",
      "execution_count": null,
      "metadata": {
        "colab": {
          "base_uri": "https://localhost:8080/"
        },
        "id": "Ug3r2mmbWJpn",
        "outputId": "ba64387e-e7b9-4659-d6a9-ef9d3fed7be0"
      },
      "outputs": [
        {
          "output_type": "stream",
          "name": "stdout",
          "text": [
            "Hello from Lab 1 Python!\n"
          ]
        }
      ],
      "source": [
        "msg = \"Hello from Lab 1 Python!\"\n",
        "print(msg)"
      ]
    },
    {
      "cell_type": "markdown",
      "source": [
        "# 2.Use a variable to represent your favorite number. Then, using that variable,\n",
        "create a message that reveals your favorite number. Print that message"
      ],
      "metadata": {
        "id": "Qh_2x-BTXOaa"
      }
    },
    {
      "cell_type": "code",
      "source": [
        "fav_num = 5\n",
        "print(f\"{fav_num} is my favourite number\")"
      ],
      "metadata": {
        "colab": {
          "base_uri": "https://localhost:8080/"
        },
        "id": "GDhbxCEwXOvY",
        "outputId": "376e45eb-740a-4887-fc63-2df998b73003"
      },
      "execution_count": null,
      "outputs": [
        {
          "output_type": "stream",
          "name": "stdout",
          "text": [
            "5 is my favourite number\n"
          ]
        }
      ]
    },
    {
      "cell_type": "markdown",
      "source": [
        "# 3. The volume of a sphere\n",
        "The volume of a sphere with radius r is 4/3πr\n",
        "3\n",
        ". What is the volume of a sphere\n",
        "with radius 5? Start with a variable named radius and then assign the result to\n",
        "a variable named volume. Display the result. Add comments to indicate\n",
        "that radius is in centimeters and volume in cubic centimeters.\n"
      ],
      "metadata": {
        "id": "zhXvhLQVX25k"
      }
    },
    {
      "cell_type": "code",
      "source": [
        "# The redius of the phere in cm\n",
        "r = 5\n",
        "PI = 3.14\n",
        "\n",
        "# the volum of the sphere in cubic cm\n",
        "v = 4/3 * PI * r**3\n",
        "\n",
        "print(\"The volume of a sphere with radius 5 is = \", v, \"cm**3\")"
      ],
      "metadata": {
        "colab": {
          "base_uri": "https://localhost:8080/"
        },
        "id": "vzbDffkXXzOa",
        "outputId": "e6767b1e-a583-4676-ea8c-22c09f5495a4"
      },
      "execution_count": null,
      "outputs": [
        {
          "output_type": "stream",
          "name": "stdout",
          "text": [
            "The volume of a sphere with radius 5 is =  523.3333333333334 cm**3\n"
          ]
        }
      ]
    },
    {
      "cell_type": "markdown",
      "source": [
        "# 4. Two Integers\n",
        "Let’s your program already contains two integer variables, x and y:\n",
        "x = 27\n",
        "y = 15\n",
        "Please complete the program so that it also prints out the following:\n",
        "27 + 15 = 42\n",
        "27 - 15 = 12\n",
        "27 * 15 = 405\n",
        "27 / 15 = 1.8"
      ],
      "metadata": {
        "id": "3WFpgLgMZQdW"
      }
    },
    {
      "cell_type": "code",
      "source": [
        "x = 27\n",
        "y = 15\n",
        "\n",
        "print (f\"{x} + {y} = {x+y}\")\n",
        "print (f\"{x} - {y} = {x-y}\")\n",
        "print (f\"{x} * {y} = {x*y}\")\n",
        "print (f\"{x} / {y} = {x/y}\")"
      ],
      "metadata": {
        "colab": {
          "base_uri": "https://localhost:8080/"
        },
        "id": "afNuPjGRZPNj",
        "outputId": "9e7e3ddd-56db-4dfd-9a23-142d9f5788dc"
      },
      "execution_count": null,
      "outputs": [
        {
          "output_type": "stream",
          "name": "stdout",
          "text": [
            "27 + 15 = 42\n",
            "27 - 15 = 12\n",
            "27 * 15 = 405\n",
            "27 / 15 = 1.8\n"
          ]
        }
      ]
    },
    {
      "cell_type": "markdown",
      "source": [
        "# 5. Number of days\n",
        "Please write a program which asks the user for a number of days. The program\n",
        "then prints out the number of seconds in the number of days given.\n",
        "How many days? 1\n",
        "Seconds in that many days: 86400"
      ],
      "metadata": {
        "id": "5GQjsuPTaAEC"
      }
    },
    {
      "cell_type": "code",
      "source": [
        "num_of_days = input(\"Enter number of days: \")\n",
        "mins_in_day = int(num_of_days)*60*60*24\n",
        "\n",
        "print(\"Seconds in that many days: \", mins_in_day)"
      ],
      "metadata": {
        "colab": {
          "base_uri": "https://localhost:8080/"
        },
        "id": "-uRGeBFTZOTt",
        "outputId": "b55d8920-608d-4c97-ee46-1927e968bb71"
      },
      "execution_count": null,
      "outputs": [
        {
          "output_type": "stream",
          "name": "stdout",
          "text": [
            "Enter number of days:1\n",
            "Seconds in that many days:  86400\n"
          ]
        }
      ]
    },
    {
      "cell_type": "code",
      "source": [
        "86400/(60*60*24)"
      ],
      "metadata": {
        "colab": {
          "base_uri": "https://localhost:8080/"
        },
        "id": "Pp9_3JcOY8Sd",
        "outputId": "67e5f810-871e-4a38-e161-b61ca83024a0"
      },
      "execution_count": null,
      "outputs": [
        {
          "output_type": "execute_result",
          "data": {
            "text/plain": [
              "1.0"
            ]
          },
          "metadata": {},
          "execution_count": 11
        }
      ]
    },
    {
      "cell_type": "markdown",
      "source": [
        "# 6. Number of students on a course and\n",
        "the desired group size\n",
        "Please write a program which asks for the number of students on a course and\n",
        "the desired group size. The program will then print out the number of groups\n",
        "formed from the students on the course. If the division is not even, one of the\n",
        "groups may have fewer members than specified.\n",
        "Simple output (1)\n",
        "How many students on the course? 8\n",
        "Desired group size? 4\n",
        "Number of groups formed: 2\n",
        "Simple output (2)\n",
        "How many students on the course? 11\n",
        "Desired group size? 3\n",
        "Number of groups formed: 4\n",
        "Hint: the integer division operator // could come in handy here."
      ],
      "metadata": {
        "id": "vrBroSpsbVI1"
      }
    },
    {
      "cell_type": "code",
      "source": [
        "import math\n",
        "\n",
        "num_of_stedents_p_course = int(input(\"How many students on the course? \"))\n",
        "desired_group_size = int(input(\"Desired group size? \"))\n",
        "\n",
        "num_of_groups = math.ceil(num_of_stedents_p_course / desired_group_size)\n",
        "\n",
        "print(\"Number of groups formed:\", num_of_groups)"
      ],
      "metadata": {
        "colab": {
          "base_uri": "https://localhost:8080/"
        },
        "id": "egOgY97mbfT8",
        "outputId": "067b73e2-d276-4f03-8a88-83d736911850"
      },
      "execution_count": null,
      "outputs": [
        {
          "output_type": "stream",
          "name": "stdout",
          "text": [
            "How many students on the course? 11\n",
            "Desired group size? 3\n",
            "Number of groups formed: 4\n"
          ]
        }
      ]
    },
    {
      "cell_type": "code",
      "source": [
        "num_of_stedents_p_course = int(input(\"How many students on the course? \"))\n",
        "desired_group_size = int(input(\"Desired group size? \"))\n",
        "\n",
        "num_of_groups = (num_of_stedents_p_course + desired_group_size - 1) // desired_group_size\n",
        "\n",
        "print(\"Number of groups formed:\", num_of_groups)"
      ],
      "metadata": {
        "colab": {
          "base_uri": "https://localhost:8080/"
        },
        "id": "KAtKmAhxh45c",
        "outputId": "0d1e95b8-4eb3-4118-c368-a29072d650a9"
      },
      "execution_count": null,
      "outputs": [
        {
          "output_type": "stream",
          "name": "stdout",
          "text": [
            "How many students on the course? 11\n",
            "Desired group size? 3\n",
            "Number of groups formed: 4\n"
          ]
        }
      ]
    },
    {
      "cell_type": "markdown",
      "source": [
        "# Testing strip() method"
      ],
      "metadata": {
        "id": "lEoa608siEfk"
      }
    },
    {
      "cell_type": "code",
      "source": [
        "s = \"omnia\"\n",
        "print(\"Testing defult strip\",s.strip('an'))\n",
        "# print(\"Testing strip and pass the first character of the word\", s.strip('o'))\n",
        "# print(\"Testing strip and pass a character form the middle of the word\", s.strip('m'))\n",
        "# print(\"Testing strip and pass a character form the middle of the word\", s.strip('n'))\n",
        "# print(\"Testing strip and pass a character form the middle of the word\", s.strip('i'))\n",
        "# print(\"Testing strip and pass the last character of the word\", s.strip('a'))\n"
      ],
      "metadata": {
        "colab": {
          "base_uri": "https://localhost:8080/"
        },
        "id": "OySAkXxleztD",
        "outputId": "1cc85785-0e5e-4be4-d845-866d4bf620a7"
      },
      "execution_count": null,
      "outputs": [
        {
          "output_type": "stream",
          "name": "stdout",
          "text": [
            "Testing defult strip omni\n"
          ]
        }
      ]
    }
  ]
}
