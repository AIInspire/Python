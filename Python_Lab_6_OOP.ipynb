{
  "nbformat": 4,
  "nbformat_minor": 0,
  "metadata": {
    "colab": {
      "provenance": [],
      "authorship_tag": "ABX9TyPTiowq4aVBNgQ+DEFG2YKJ",
      "include_colab_link": true
    },
    "kernelspec": {
      "name": "python3",
      "display_name": "Python 3"
    },
    "language_info": {
      "name": "python"
    }
  },
  "cells": [
    {
      "cell_type": "markdown",
      "metadata": {
        "id": "view-in-github",
        "colab_type": "text"
      },
      "source": [
        "<a href=\"https://colab.research.google.com/github/AIInspire/Python/blob/main/Python_Lab_6_OOP.ipynb\" target=\"_parent\"><img src=\"https://colab.research.google.com/assets/colab-badge.svg\" alt=\"Open In Colab\"/></a>"
      ]
    },
    {
      "cell_type": "code",
      "source": [
        "class Restaurant:\n",
        "  def __init__(self, resturant_name, cuisine_type, number_served=0):\n",
        "    self.resturant_name = resturant_name\n",
        "    self.cuisine_type = cuisine_type\n",
        "    self.number_served = number_served\n",
        "\n",
        "  def describe_restaurant(self):\n",
        "    print(f\"The restaurant name is {self.resturant_name}\")\n",
        "    print(f\"The cuisine type is {self.cuisine_type}\")\n",
        "\n",
        "  def open_restaurant(self):\n",
        "    print(f\"The restaurant is open!\")\n",
        "\n",
        "  def set_number_served(self, number_served):\n",
        "    self.number_served = number_served\n",
        "    return self.number_served\n",
        "\n",
        "  def increment_number_served(self, number_served):\n",
        "    self.number_served += number_served\n",
        "    return self.number_served\n",
        "\n",
        "resturant_a = Restaurant(\"Pizza Hut\", \"Eurpean cusisine\")\n",
        "resturant_a.describe_restaurant()\n",
        "resturant_a.open_restaurant()\n",
        "\n",
        "print(f\"Number of served: {resturant_a.number_served}\")\n",
        "\n",
        "resturant_a.number_served = 5\n",
        "print(f\"Number of served: {resturant_a.number_served}\")\n",
        "\n",
        "resturant_a.set_number_served(10)\n",
        "print(resturant_a.number_served)\n",
        "\n",
        "resturant_a.increment_number_served(10)\n",
        "print(resturant_a.number_served)"
      ],
      "metadata": {
        "colab": {
          "base_uri": "https://localhost:8080/"
        },
        "id": "2o9j5r8q-9zx",
        "outputId": "8220a988-8bd6-45ce-a4cd-7aa042234bd7"
      },
      "execution_count": null,
      "outputs": [
        {
          "output_type": "stream",
          "name": "stdout",
          "text": [
            "The restaurant name is Pizza Hut\n",
            "The cuisine type is Eurpean cusisine\n",
            "The restaurant is open!\n",
            "Number of served: 0\n",
            "Number of served: 5\n",
            "10\n",
            "20\n"
          ]
        }
      ]
    },
    {
      "cell_type": "markdown",
      "source": [
        "# 1) Pagination Class with OOP"
      ],
      "metadata": {
        "id": "o-OjoOCPU9Pw"
      }
    },
    {
      "cell_type": "markdown",
      "source": [
        "Your task is to create a class to handle paginated content in a website. A\n",
        "pagination is used to divide long lists of content in a series of pages.\n",
        "The pagination class will accept 2 parameters:\n",
        "1. items (default: []): A list of contents to paginate.\n",
        "2. pageSize (default: 10): The amount of items to show in each page.\n",
        "So, for example we could initialize our pagination like this:\n",
        "And then use the method getVisibleItems to show the contents of the paginated list.\n",
        "You will have to implement various methods to go through the pages such as:\n",
        "• prevPage\n",
        "• nextPage\n",
        "• firstPage\n",
        "• lastPage\n",
        "• goToPage\n",
        "Here's a continuation of the example above using nextPage and lastPage:\n",
        "Notes\n",
        "• The second argument (pageSize) could be a float, in that case just convert it to\n",
        "an int (this is also the case for the goToPage method)\n",
        "• The methods used to change page should be chainable, so you can call them one\n",
        "after the other like this: p.nextPage().nextPage()\n",
        "• Please set the p.totalPages and p.currentPage attributes to the appropriate number\n",
        "as there cannot be a page 0.\n",
        "• If a page is outside of the totalPages attribute, then the goToPage method should go\n",
        "to the closest page to the number provided (e.g. there are only 5 total pages,\n",
        "but p.goToPage(10) is given: the p.currentPage should be set to 5; if 0 or a negative\n",
        "number is given, p.currentPage should be set to 1)."
      ],
      "metadata": {
        "id": "2hmERUyqVBqO"
      }
    },
    {
      "cell_type": "code",
      "source": [
        "import math"
      ],
      "metadata": {
        "id": "YeHFnvfKFr9m"
      },
      "execution_count": null,
      "outputs": []
    },
    {
      "cell_type": "code",
      "source": [
        "class Pagination:\n",
        "  \"\"\" A class to handle paginated content in a website\"\"\"\n",
        "\n",
        "  def __init__(self, items = [], pageSize = 10):\n",
        "    self.items = items\n",
        "    self.pageSize = int(pageSize)\n",
        "    self.totalPages = math.ceil(len(items) / pageSize)\n",
        "    self.currentPage = 1\n",
        "\n",
        "  def getVisibleItems(self):\n",
        "    start = (self.currentPage - 1)*self.pageSize\n",
        "    end = start + self.pageSize\n",
        "    return self.items[start:end]\n",
        "\n",
        "  def prevPage(self):\n",
        "    if self.currentPage > 1:\n",
        "      self.currentPage -= 1\n",
        "    return self.currentPage\n",
        "\n",
        "  def nextPage(self):\n",
        "    if self.currentPage < self.totalPages:\n",
        "      self.currentPage += 1\n",
        "    return self.currentPage\n",
        "\n",
        "  def firstPage(self):\n",
        "    self.currentPage = 1\n",
        "    return self.currentPage\n",
        "\n",
        "  def lastPage(self):\n",
        "    self.currentPage = self.totalPages\n",
        "    return self.currentPage\n",
        "\n",
        "  def gotopage(self, page):\n",
        "    if page > self.totalPages:\n",
        "      self.currentPage = self.totalPages\n",
        "    elif page < 1:\n",
        "      self.currentPage = 1\n",
        "    else:\n",
        "      self.currentPage = page\n",
        "    return self.currentPage\n"
      ],
      "metadata": {
        "id": "R6slWfxCU8xf"
      },
      "execution_count": null,
      "outputs": []
    },
    {
      "cell_type": "code",
      "source": [
        "import string\n",
        "\n",
        "alphabetList = list(string.ascii_lowercase)\n",
        "p = Pagination(alphabetList, 4)"
      ],
      "metadata": {
        "id": "eXb1_i5dZNv0"
      },
      "execution_count": null,
      "outputs": []
    },
    {
      "cell_type": "code",
      "source": [
        "print(\"Items : \", p.items)\n",
        "print(\"Page Size: \", p.pageSize)\n",
        "print(\"Total Pages: \", p.totalPages)\n",
        "print(\"Current Page: \", p.currentPage)\n",
        "\n",
        "firstPage = p.firstPage()\n",
        "print(\"GO TO FIRST PAGE\")\n",
        "print(f\"Page number: {firstPage}\")\n",
        "print(p.currentPage)\n",
        "print(\"The items of this Page:\", p.getVisibleItems())\n",
        "\n",
        "prevPage = p.prevPage()\n",
        "print(\"GO TO PREVIOUS PAGE\")\n",
        "print(f\"Page number: {prevPage}\")\n",
        "print(p.currentPage)\n",
        "print(\"The items of this Page:\", p.getVisibleItems())\n",
        "\n",
        "nextPage = p.nextPage()\n",
        "print(\"GO TO NEXT PAGE\")\n",
        "print(f\"Page number: {nextPage}\")\n",
        "print(p.currentPage)\n",
        "print(\"The items of this Page:\", p.getVisibleItems())\n",
        "\n",
        "lastPage = p.lastPage()\n",
        "print(\"GO TO LAST PAGE\")\n",
        "print(f\"Page number: {lastPage}\")\n",
        "print(p.currentPage)\n",
        "\n",
        "nextPage = p.nextPage()\n",
        "print(\"GO TO NEXT PAGE\")\n",
        "print(f\"Page number: {nextPage}\")\n",
        "print(p.currentPage)\n",
        "print(\"The items of this Page:\", p.getVisibleItems())\n",
        "\n",
        "prevPage = p.prevPage()\n",
        "print(\"GO TO PREVIOUS PAGE\")\n",
        "print(f\"Page number: {prevPage}\")\n",
        "print(p.currentPage)\n",
        "print(\"The items of this Page:\", p.getVisibleItems())\n",
        "\n",
        "lastPage = p.lastPage()\n",
        "print(lastPage)\n",
        "print(p.currentPage)\n",
        "print(\"The items of this Page:\", p.getVisibleItems())"
      ],
      "metadata": {
        "colab": {
          "base_uri": "https://localhost:8080/"
        },
        "id": "fR8D1tqxccgr",
        "outputId": "1112516f-0283-4175-b0f2-a074b7472492"
      },
      "execution_count": null,
      "outputs": [
        {
          "output_type": "stream",
          "name": "stdout",
          "text": [
            "Items :  ['a', 'b', 'c', 'd', 'e', 'f', 'g', 'h', 'i', 'j', 'k', 'l', 'm', 'n', 'o', 'p', 'q', 'r', 's', 't', 'u', 'v', 'w', 'x', 'y', 'z']\n",
            "Page Size:  4\n",
            "Total Pages:  7\n",
            "Current Page:  1\n",
            "GO TO FIRST PAGE\n",
            "Page number: 1\n",
            "1\n",
            "The items of this Page: ['a', 'b', 'c', 'd']\n",
            "GO TO PREVIOUS PAGE\n",
            "Page number: 1\n",
            "1\n",
            "The items of this Page: ['a', 'b', 'c', 'd']\n",
            "GO TO NEXT PAGE\n",
            "Page number: 2\n",
            "2\n",
            "The items of this Page: ['e', 'f', 'g', 'h']\n",
            "GO TO LAST PAGE\n",
            "Page number: 7\n",
            "7\n",
            "GO TO NEXT PAGE\n",
            "Page number: 7\n",
            "7\n",
            "The items of this Page: ['y', 'z']\n",
            "GO TO PREVIOUS PAGE\n",
            "Page number: 6\n",
            "6\n",
            "The items of this Page: ['u', 'v', 'w', 'x']\n",
            "7\n",
            "7\n",
            "The items of this Page: ['y', 'z']\n"
          ]
        }
      ]
    },
    {
      "cell_type": "markdown",
      "source": [
        "# 2) Coffee Shop"
      ],
      "metadata": {
        "id": "GG8RmUWNVLml"
      }
    },
    {
      "cell_type": "markdown",
      "source": [
        "Write a class called CoffeeShop, which has three instance variables:\n",
        "1. name: a string (basically, of the shop)\n",
        "2. menu: a list of items (of dict type), with each item containing the item (name of\n",
        "the item), type (whether a food or a drink) and price.\n",
        "3. orders: an empty list\n",
        "and seven methods:\n",
        "1. add_order: adds the name of the item to the end of the orders list if it exists on\n",
        "the menu, otherwise, return \"This item is currently unavailable!\"\n",
        "2. fulfill_order: if the orders list is not empty, return \"The {item} is ready!\". If\n",
        "the orders list is empty, return \"All orders have been fulfilled!\"\n",
        "3. list_orders: returns the item names of the orders taken, otherwise,\n",
        "an empty list.\n",
        "4. due_amount: returns the total amount due for the orders taken.\n",
        "5. cheapest_item: returns the name of the cheapest item on the menu.\n",
        "6. drinks_only: returns only the item names of type drink from the menu.\n",
        "7. food_only: returns only the item names of type food from the menu.\n",
        "IMPORTANT: Orders are fulfilled in a FIFO (first-in, first-out) order."
      ],
      "metadata": {
        "id": "3Pw4No8BVWMb"
      }
    },
    {
      "cell_type": "code",
      "source": [
        "class CoffeeShop:\n",
        "    \"\"\"A class representing a coffee shop.\"\"\"\n",
        "\n",
        "    def __init__(self, name, menu):\n",
        "      self.name = name\n",
        "      self.menu = menu\n",
        "      self.orders = []\n",
        "\n",
        "    def add_order(self, item_name):\n",
        "      for item in self.menu:\n",
        "        if item[\"item\"] == item_name:\n",
        "          self.orders.append(item_name)\n",
        "          return \"Order added!\"\n",
        "      return \"This item is currently unavailable!\"\n",
        "\n",
        "    def fulfill_order(self):\n",
        "      orders_len = len(self.orders)\n",
        "      if orders_len != 0:\n",
        "        fulfilled_item = self.orders.pop(0)\n",
        "        return f\"The {fulfilled_item} is ready!\"\n",
        "      return \"All orders have been fulfilled!\"\n",
        "\n",
        "    def list_orders(self):\n",
        "      return self.orders\n",
        "\n",
        "    def due_amount(self):\n",
        "      total = 0\n",
        "      for order in self.orders:\n",
        "        for item in self.menu:\n",
        "          if item[\"item\"] == order:\n",
        "            total += item[\"price\"]\n",
        "      return total\n",
        "\n",
        "    def cheapest_item(self):\n",
        "      cheapest_price = self.menu[0]['price']\n",
        "      cheapest = self.menu[0]['item']\n",
        "      for item in self.menu:\n",
        "        if item['price'] < cheapest_price:\n",
        "          cheapest_price = item['price']\n",
        "          cheapest = item['item']\n",
        "      return cheapest\n",
        "\n",
        "    def drinks_only(self):\n",
        "      drinks = []\n",
        "      for item in self.menu:\n",
        "        if item[\"type\"] == \"drink\":\n",
        "          drinks.append(item[\"item\"])\n",
        "      return drinks\n",
        "\n",
        "    def food_only(self):\n",
        "      food = []\n",
        "      for item in self.menu:\n",
        "        if item[\"type\"] == \"food\":\n",
        "          food.append(item[\"item\"])\n",
        "      return food"
      ],
      "metadata": {
        "id": "c5KtUr-o038d"
      },
      "execution_count": null,
      "outputs": []
    },
    {
      "cell_type": "code",
      "source": [
        "menu = [\n",
        "    {\"item\": \"orange juice\", \"type\": \"drink\", \"price\": 100},\n",
        "    {\"item\": \"lemonade\", \"type\": \"drink\", \"price\": 105},\n",
        "    {\"item\": \"cranberry juice\", \"type\": \"drink\", \"price\": 50},\n",
        "    {\"item\": \"tuna sandwich\", \"type\": \"food\", \"price\": 200},\n",
        "    {\"item\": \"ham and cheese sandwich\", \"type\": \"food\", \"price\": 300},\n",
        "    {\"item\": \"bacon and egg\", \"type\": \"food\", \"price\": 280},\n",
        "    {\"item\": \"pineapple juice\", \"type\": \"drink\", \"price\": 130},\n",
        "    {\"item\": \"cinnamon roll\", \"type\": \"food\", \"price\": 200},\n",
        "    {\"item\": \"iced coffee\", \"type\": \"drink\", \"price\": 100},\n",
        "]"
      ],
      "metadata": {
        "collapsed": true,
        "id": "-XOgTLoPxnPf"
      },
      "execution_count": null,
      "outputs": []
    },
    {
      "cell_type": "code",
      "source": [
        "tcs = CoffeeShop(\"Tesha's Coffee Shop\", menu)\n",
        "\n",
        "# Adding orders\n",
        "print(tcs.add_order(\"hot cocoa\"))\n",
        "print(tcs.add_order(\"iced tea\"))\n",
        "print(tcs.add_order(\"cinnamon roll\"))\n",
        "print(tcs.add_order(\"iced coffee\"))"
      ],
      "metadata": {
        "colab": {
          "base_uri": "https://localhost:8080/"
        },
        "id": "SOGR4oo35q-h",
        "outputId": "b5e76cb0-1381-469b-fdac-2fcf05a7b76d"
      },
      "execution_count": null,
      "outputs": [
        {
          "output_type": "stream",
          "name": "stdout",
          "text": [
            "This item is currently unavailable!\n",
            "This item is currently unavailable!\n",
            "Order added!\n",
            "Order added!\n"
          ]
        }
      ]
    },
    {
      "cell_type": "code",
      "source": [
        "tcs.list_orders()"
      ],
      "metadata": {
        "colab": {
          "base_uri": "https://localhost:8080/"
        },
        "id": "IXowhjPj62GP",
        "outputId": "8ca92f2f-8d2e-4f1d-f1dd-0a2beca342cf"
      },
      "execution_count": null,
      "outputs": [
        {
          "output_type": "execute_result",
          "data": {
            "text/plain": [
              "['cinnamon roll', 'iced coffee']"
            ]
          },
          "metadata": {},
          "execution_count": 68
        }
      ]
    },
    {
      "cell_type": "code",
      "source": [
        "tcs.due_amount()"
      ],
      "metadata": {
        "colab": {
          "base_uri": "https://localhost:8080/"
        },
        "id": "-Dwzhe1Q7HaH",
        "outputId": "225b47a2-5b49-478b-e237-65c62108fe04"
      },
      "execution_count": null,
      "outputs": [
        {
          "output_type": "execute_result",
          "data": {
            "text/plain": [
              "300"
            ]
          },
          "metadata": {},
          "execution_count": 69
        }
      ]
    },
    {
      "cell_type": "code",
      "source": [
        "print(tcs.fulfill_order())\n",
        "print(tcs.fulfill_order())\n",
        "print(tcs.fulfill_order())"
      ],
      "metadata": {
        "colab": {
          "base_uri": "https://localhost:8080/"
        },
        "id": "Zr6GQtCA7NkJ",
        "outputId": "56f9b7df-83dd-476e-8943-ec86a83c9d95"
      },
      "execution_count": null,
      "outputs": [
        {
          "output_type": "stream",
          "name": "stdout",
          "text": [
            "The cinnamon roll is ready!\n",
            "The iced coffee is ready!\n",
            "All orders have been fulfilled!\n"
          ]
        }
      ]
    },
    {
      "cell_type": "code",
      "source": [
        "tcs.due_amount()"
      ],
      "metadata": {
        "colab": {
          "base_uri": "https://localhost:8080/"
        },
        "id": "a2l02al4EL_R",
        "outputId": "ef969d67-52d5-49e2-c616-0b4515c3564f"
      },
      "execution_count": null,
      "outputs": [
        {
          "output_type": "execute_result",
          "data": {
            "text/plain": [
              "0"
            ]
          },
          "metadata": {},
          "execution_count": 71
        }
      ]
    },
    {
      "cell_type": "code",
      "source": [
        "print(tcs.cheapest_item())"
      ],
      "metadata": {
        "colab": {
          "base_uri": "https://localhost:8080/"
        },
        "id": "x9R5fBwB7jkA",
        "outputId": "6b9cedd1-3c2d-4ec9-b6b3-e1ebce3b91a7"
      },
      "execution_count": null,
      "outputs": [
        {
          "output_type": "stream",
          "name": "stdout",
          "text": [
            "cranberry juice\n"
          ]
        }
      ]
    },
    {
      "cell_type": "code",
      "source": [
        "print(tcs.drinks_only())\n",
        "print(tcs.food_only())"
      ],
      "metadata": {
        "colab": {
          "base_uri": "https://localhost:8080/"
        },
        "id": "GuIPg77k7mrt",
        "outputId": "927070d0-8b49-4c9d-a305-c595e7d41e33"
      },
      "execution_count": null,
      "outputs": [
        {
          "output_type": "stream",
          "name": "stdout",
          "text": [
            "['orange juice', 'lemonade', 'cranberry juice', 'pineapple juice', 'iced coffee']\n",
            "['tuna sandwich', 'ham and cheese sandwich', 'bacon and egg', 'cinnamon roll']\n"
          ]
        }
      ]
    }
  ]
}